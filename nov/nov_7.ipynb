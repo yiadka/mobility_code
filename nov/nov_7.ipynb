{
 "cells": [
  {
   "cell_type": "code",
   "execution_count": 4,
   "metadata": {},
   "outputs": [],
   "source": [
    "import pandas as pd\n",
    "import numpy as np\n",
    "import matplotlib.pyplot as plt\n",
    "import seaborn as sns\n",
    "from datetime import timedelta\n",
    "from scipy import stats\n",
    "from scipy import optimize\n",
    "\n",
    "import warnings\n",
    "warnings.filterwarnings('ignore')\n",
    "warnings.simplefilter('ignore')"
   ]
  },
  {
   "cell_type": "code",
   "execution_count": 3,
   "metadata": {},
   "outputs": [
    {
     "name": "stderr",
     "output_type": "stream",
     "text": [
      "/var/folders/pm/4cgtm7w90fbgczj718s4vvk40000gn/T/ipykernel_98821/3102839529.py:1: DtypeWarning: Columns (2,10) have mixed types. Specify dtype option on import or set low_memory=False.\n",
      "  df = pd.read_csv(\"../data/wholetime.csv\")\n"
     ]
    }
   ],
   "source": [
    "df = pd.read_csv(\"../data/wholetime.csv\")\n",
    "df_sample = df.sample(1000)"
   ]
  },
  {
   "cell_type": "code",
   "execution_count": 5,
   "metadata": {},
   "outputs": [
    {
     "data": {
      "text/html": [
       "<div>\n",
       "<style scoped>\n",
       "    .dataframe tbody tr th:only-of-type {\n",
       "        vertical-align: middle;\n",
       "    }\n",
       "\n",
       "    .dataframe tbody tr th {\n",
       "        vertical-align: top;\n",
       "    }\n",
       "\n",
       "    .dataframe thead th {\n",
       "        text-align: right;\n",
       "    }\n",
       "</style>\n",
       "<table border=\"1\" class=\"dataframe\">\n",
       "  <thead>\n",
       "    <tr style=\"text-align: right;\">\n",
       "      <th></th>\n",
       "      <th>end_lat</th>\n",
       "      <th>end_lng</th>\n",
       "      <th>end_station_id</th>\n",
       "      <th>end_station_name</th>\n",
       "      <th>ended_at</th>\n",
       "      <th>member_casual</th>\n",
       "      <th>ride_id</th>\n",
       "      <th>rideable_type</th>\n",
       "      <th>start_lat</th>\n",
       "      <th>start_lng</th>\n",
       "      <th>start_station_id</th>\n",
       "      <th>start_station_name</th>\n",
       "      <th>started_at</th>\n",
       "      <th>distance</th>\n",
       "      <th>start_lat_lng</th>\n",
       "      <th>end_lat_lng</th>\n",
       "    </tr>\n",
       "  </thead>\n",
       "  <tbody>\n",
       "    <tr>\n",
       "      <th>10605621</th>\n",
       "      <td>41.884616</td>\n",
       "      <td>-87.644571</td>\n",
       "      <td>15535</td>\n",
       "      <td>Desplaines St &amp; Randolph St</td>\n",
       "      <td>2023-06-20 09:46:20</td>\n",
       "      <td>member</td>\n",
       "      <td>ACC9BDB5BCA1D90F</td>\n",
       "      <td>electric_bike</td>\n",
       "      <td>41.907711</td>\n",
       "      <td>-87.672548</td>\n",
       "      <td>13221</td>\n",
       "      <td>Wood St &amp; Milwaukee Ave</td>\n",
       "      <td>2023-06-20 09:37:25</td>\n",
       "      <td>3.459803</td>\n",
       "      <td>(41.9077105, -87.67254816666667)</td>\n",
       "      <td>(41.88461618962, -87.6445705849)</td>\n",
       "    </tr>\n",
       "    <tr>\n",
       "      <th>5433095</th>\n",
       "      <td>41.902309</td>\n",
       "      <td>-87.627691</td>\n",
       "      <td>KA1504000133</td>\n",
       "      <td>Rush St &amp; Cedar St</td>\n",
       "      <td>2022-06-09 06:40:39</td>\n",
       "      <td>member</td>\n",
       "      <td>183F51DF0C1CE54E</td>\n",
       "      <td>electric_bike</td>\n",
       "      <td>41.911305</td>\n",
       "      <td>-87.638736</td>\n",
       "      <td>TA1307000038</td>\n",
       "      <td>Sedgwick St &amp; North Ave</td>\n",
       "      <td>2022-06-09 06:32:14</td>\n",
       "      <td>1.355820</td>\n",
       "      <td>(41.911304712, -87.638735652)</td>\n",
       "      <td>(41.90230870122, -87.627690528)</td>\n",
       "    </tr>\n",
       "    <tr>\n",
       "      <th>17568779</th>\n",
       "      <td>41.876511</td>\n",
       "      <td>-87.620548</td>\n",
       "      <td>15541</td>\n",
       "      <td>Buckingham Fountain</td>\n",
       "      <td>2021-06-22 19:59:40</td>\n",
       "      <td>casual</td>\n",
       "      <td>5638E84738120BCF</td>\n",
       "      <td>classic_bike</td>\n",
       "      <td>41.890573</td>\n",
       "      <td>-87.622072</td>\n",
       "      <td>13427</td>\n",
       "      <td>Cityfront Plaza Dr &amp; Pioneer Ct</td>\n",
       "      <td>2021-06-22 18:01:37</td>\n",
       "      <td>1.566969</td>\n",
       "      <td>(41.890573, -87.622072)</td>\n",
       "      <td>(41.87651122881695, -87.62054800987242)</td>\n",
       "    </tr>\n",
       "    <tr>\n",
       "      <th>10201774</th>\n",
       "      <td>41.943670</td>\n",
       "      <td>-87.648950</td>\n",
       "      <td>TA1309000025</td>\n",
       "      <td>Halsted St &amp; Roscoe St</td>\n",
       "      <td>2023-05-05 17:02:41</td>\n",
       "      <td>casual</td>\n",
       "      <td>3833F202D78A1288</td>\n",
       "      <td>electric_bike</td>\n",
       "      <td>41.961607</td>\n",
       "      <td>-87.654601</td>\n",
       "      <td>TA1307000107</td>\n",
       "      <td>Sheridan Rd &amp; Montrose Ave</td>\n",
       "      <td>2023-05-05 16:57:17</td>\n",
       "      <td>2.046683</td>\n",
       "      <td>(41.961607218, -87.654601097)</td>\n",
       "      <td>(41.94367, -87.64895)</td>\n",
       "    </tr>\n",
       "    <tr>\n",
       "      <th>7412544</th>\n",
       "      <td>41.890847</td>\n",
       "      <td>-87.618617</td>\n",
       "      <td>TA1306000013</td>\n",
       "      <td>New St &amp; Illinois St</td>\n",
       "      <td>2022-09-20 10:57:11</td>\n",
       "      <td>member</td>\n",
       "      <td>1D50995C021BB420</td>\n",
       "      <td>electric_bike</td>\n",
       "      <td>41.902465</td>\n",
       "      <td>-87.627610</td>\n",
       "      <td>KA1504000133</td>\n",
       "      <td>Rush St &amp; Cedar St</td>\n",
       "      <td>2022-09-20 10:51:02</td>\n",
       "      <td>1.490686</td>\n",
       "      <td>(41.902465, -87.62761)</td>\n",
       "      <td>(41.89084704062381, -87.61861681938171)</td>\n",
       "    </tr>\n",
       "  </tbody>\n",
       "</table>\n",
       "</div>"
      ],
      "text/plain": [
       "            end_lat    end_lng end_station_id             end_station_name  \\\n",
       "10605621  41.884616 -87.644571          15535  Desplaines St & Randolph St   \n",
       "5433095   41.902309 -87.627691   KA1504000133           Rush St & Cedar St   \n",
       "17568779  41.876511 -87.620548          15541          Buckingham Fountain   \n",
       "10201774  41.943670 -87.648950   TA1309000025       Halsted St & Roscoe St   \n",
       "7412544   41.890847 -87.618617   TA1306000013         New St & Illinois St   \n",
       "\n",
       "                     ended_at member_casual           ride_id  rideable_type  \\\n",
       "10605621  2023-06-20 09:46:20        member  ACC9BDB5BCA1D90F  electric_bike   \n",
       "5433095   2022-06-09 06:40:39        member  183F51DF0C1CE54E  electric_bike   \n",
       "17568779  2021-06-22 19:59:40        casual  5638E84738120BCF   classic_bike   \n",
       "10201774  2023-05-05 17:02:41        casual  3833F202D78A1288  electric_bike   \n",
       "7412544   2022-09-20 10:57:11        member  1D50995C021BB420  electric_bike   \n",
       "\n",
       "          start_lat  start_lng start_station_id  \\\n",
       "10605621  41.907711 -87.672548            13221   \n",
       "5433095   41.911305 -87.638736     TA1307000038   \n",
       "17568779  41.890573 -87.622072            13427   \n",
       "10201774  41.961607 -87.654601     TA1307000107   \n",
       "7412544   41.902465 -87.627610     KA1504000133   \n",
       "\n",
       "                       start_station_name           started_at  distance  \\\n",
       "10605621          Wood St & Milwaukee Ave  2023-06-20 09:37:25  3.459803   \n",
       "5433095           Sedgwick St & North Ave  2022-06-09 06:32:14  1.355820   \n",
       "17568779  Cityfront Plaza Dr & Pioneer Ct  2021-06-22 18:01:37  1.566969   \n",
       "10201774       Sheridan Rd & Montrose Ave  2023-05-05 16:57:17  2.046683   \n",
       "7412544                Rush St & Cedar St  2022-09-20 10:51:02  1.490686   \n",
       "\n",
       "                             start_lat_lng  \\\n",
       "10605621  (41.9077105, -87.67254816666667)   \n",
       "5433095      (41.911304712, -87.638735652)   \n",
       "17568779           (41.890573, -87.622072)   \n",
       "10201774     (41.961607218, -87.654601097)   \n",
       "7412544             (41.902465, -87.62761)   \n",
       "\n",
       "                                      end_lat_lng  \n",
       "10605621         (41.88461618962, -87.6445705849)  \n",
       "5433095           (41.90230870122, -87.627690528)  \n",
       "17568779  (41.87651122881695, -87.62054800987242)  \n",
       "10201774                    (41.94367, -87.64895)  \n",
       "7412544   (41.89084704062381, -87.61861681938171)  "
      ]
     },
     "execution_count": 5,
     "metadata": {},
     "output_type": "execute_result"
    }
   ],
   "source": [
    "df_sample.head()"
   ]
  },
  {
   "cell_type": "code",
   "execution_count": 6,
   "metadata": {},
   "outputs": [
    {
     "data": {
      "text/plain": [
       "Text(0.5, 1.0, 'Histogram of Distance')"
      ]
     },
     "execution_count": 6,
     "metadata": {},
     "output_type": "execute_result"
    },
    {
     "data": {
      "image/png": "[encoded data removed]",
      "text/plain": [
       "<Figure size 640x480 with 1 Axes>"
      ]
     },
     "metadata": {},
     "output_type": "display_data"
    }
   ],
   "source": [
    "# distanceでヒストグラム\n",
    "fig, ax = plt.subplots(1, 1, dpi=100)\n",
    "ax = sns.histplot(\n",
    "    data = df_sample,\n",
    "    x = \"distance\"\n",
    ")\n",
    "ax.set_xlabel(\"distance [km]\")\n",
    "ax.set_ylabel(\"count\")\n",
    "ax.set_xlim(0, 20)\n",
    "ax.set_title(\"Histogram of Distance\")"
   ]
  },
  {
   "cell_type": "code",
   "execution_count": null,
   "metadata": {},
   "outputs": [],
   "source": []
  }
 ],
 "metadata": {
  "kernelspec": {
   "display_name": "venv",
   "language": "python",
   "name": "python3"
  },
  "language_info": {
   "codemirror_mode": {
    "name": "ipython",
    "version": 3
   },
   "file_extension": ".py",
   "mimetype": "text/x-python",
   "name": "python",
   "nbconvert_exporter": "python",
   "pygments_lexer": "ipython3",
   "version": "3.9.6"
  }
 },
 "nbformat": 4,
 "nbformat_minor": 2
}
