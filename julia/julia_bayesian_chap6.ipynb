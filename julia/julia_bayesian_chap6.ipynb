{
 "cells": [
  {
   "cell_type": "code",
   "execution_count": 7,
   "metadata": {},
   "outputs": [],
   "source": [
    "using Distributions, PyPlot, ForwardDiff, LinearAlgebra\n",
    "using PyCall\n",
    "# @pyimport matplotlib.pyplot as plt"
   ]
  },
  {
   "cell_type": "code",
   "execution_count": 8,
   "metadata": {},
   "outputs": [
    {
     "data": {
      "text/plain": [
       "PyObject <matplotlib.collections.PathCollection object at 0x168b296f0>"
      ]
     },
     "metadata": {},
     "output_type": "display_data"
    }
   ],
   "source": [
    "# n次元単位行列\n",
    "eye(n) = Diagonal{Float64}(I, n)\n",
    "\n",
    "# パラメータ抽出用関数\n",
    "unzip(n) = map(x->getfield.(a, x), fieldnames(eltype(a)))\n",
    "\n",
    "# ラプラス近似\n",
    "#=\n",
    "事後分布をよりシンプルな分布でざっくり近似する手法\n",
    "1. 購買法で事後分布の極大値を1つ求めて近似用の正規分布の平均にする\n",
    "2. 事後分布の極大値の周りで2階微分を計算して近似用の正規分布の分散にする\n",
    "=#\n",
    "X_obs = [-2, 1, 5]\n",
    "\n",
    "Y_obs = [-2.2, -1.0, 1.5]\n",
    "\n",
    "fig, ax = subplots()\n",
    "ax.scatter(X_obs, Y_obs)"
   ]
  },
  {
   "cell_type": "code",
   "execution_count": 9,
   "metadata": {},
   "outputs": [
    {
     "data": {
      "text/plain": [
       "PyObject Text(0.5, 1.0, 'title')"
      ]
     },
     "metadata": {},
     "output_type": "display_data"
    }
   ],
   "source": [
    "Y1 = [1,2,3,4,5,6]\n",
    "Y2 = [3,4,5,6,7,8]\n",
    "\n",
    "fig, ax = subplots()\n",
    "\n",
    "ax.plot(Y1)\n",
    "ax.plot(Y2)\n",
    "\n",
    "ax.set_xlabel(\"x\") \n",
    "ax.set_ylabel(\"y\")\n",
    "\n",
    "ax.set_title(\"title\")"
   ]
  },
  {
   "cell_type": "code",
   "execution_count": 10,
   "metadata": {},
   "outputs": [
    {
     "data": {
      "text/plain": [
       "1-element Vector{PyObject}:\n",
       " PyObject <matplotlib.lines.Line2D object at 0x169714b80>"
      ]
     },
     "metadata": {},
     "output_type": "display_data"
    }
   ],
   "source": [
    "plot(Y1, label=\"Y1\")"
   ]
  },
  {
   "cell_type": "code",
   "execution_count": null,
   "metadata": {},
   "outputs": [],
   "source": []
  }
 ],
 "metadata": {
  "kernelspec": {
   "display_name": "Julia 1.9.3",
   "language": "julia",
   "name": "julia-1.9"
  },
  "language_info": {
   "file_extension": ".jl",
   "mimetype": "application/julia",
   "name": "julia",
   "version": "1.9.3"
  }
 },
 "nbformat": 4,
 "nbformat_minor": 2
}
