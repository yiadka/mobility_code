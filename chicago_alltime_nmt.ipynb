{
 "cells": [
  {
   "cell_type": "code",
   "execution_count": 1,
   "metadata": {},
   "outputs": [],
   "source": [
    "import pandas as pd\n",
    "import numpy as np\n",
    "import matplotlib.pyplot as plt\n",
    "import seaborn as sns\n",
    "import datetime\n",
    "import time\n",
    "import os\n",
    "import re\n",
    "import string\n",
    "from datetime import datetime, timedelta\n",
    "from scipy.optimize import curve_fit\n",
    "from scipy.optimize import least_squares\n",
    "import scipy.optimize as so\n",
    "import sympy as sym\n",
    "sym.init_printing(use_unicode=False, wrap_line=True)\n",
    "\n",
    "import warnings\n",
    "warnings.filterwarnings('ignore')\n",
    "warnings.simplefilter('ignore')"
   ]
  },
  {
   "cell_type": "code",
   "execution_count": 2,
   "metadata": {},
   "outputs": [
    {
     "data": {
      "text/html": [
       "<div>\n",
       "<style scoped>\n",
       "    .dataframe tbody tr th:only-of-type {\n",
       "        vertical-align: middle;\n",
       "    }\n",
       "\n",
       "    .dataframe tbody tr th {\n",
       "        vertical-align: top;\n",
       "    }\n",
       "\n",
       "    .dataframe thead th {\n",
       "        text-align: right;\n",
       "    }\n",
       "</style>\n",
       "<table border=\"1\" class=\"dataframe\">\n",
       "  <thead>\n",
       "    <tr style=\"text-align: right;\">\n",
       "      <th></th>\n",
       "      <th>end_lat</th>\n",
       "      <th>end_lng</th>\n",
       "      <th>end_station_id</th>\n",
       "      <th>end_station_name</th>\n",
       "      <th>ended_at</th>\n",
       "      <th>member_casual</th>\n",
       "      <th>ride_id</th>\n",
       "      <th>rideable_type</th>\n",
       "      <th>start_lat</th>\n",
       "      <th>start_lng</th>\n",
       "      <th>start_station_id</th>\n",
       "      <th>start_station_name</th>\n",
       "      <th>started_at</th>\n",
       "      <th>distance</th>\n",
       "      <th>start_lat_lng</th>\n",
       "      <th>end_lat_lng</th>\n",
       "    </tr>\n",
       "  </thead>\n",
       "  <tbody>\n",
       "    <tr>\n",
       "      <th>0</th>\n",
       "      <td>41.9322</td>\n",
       "      <td>-87.6586</td>\n",
       "      <td>152.0</td>\n",
       "      <td>Lincoln Ave &amp; Diversey Pkwy</td>\n",
       "      <td>2020-04-26 18:12:03</td>\n",
       "      <td>member</td>\n",
       "      <td>A847FADBBC638E45</td>\n",
       "      <td>docked_bike</td>\n",
       "      <td>41.8964</td>\n",
       "      <td>-87.6610</td>\n",
       "      <td>86</td>\n",
       "      <td>Eckhart Park</td>\n",
       "      <td>2020-04-26 17:45:14</td>\n",
       "      <td>3.981346</td>\n",
       "      <td>(41.8964, -87.661)</td>\n",
       "      <td>(41.9322, -87.6586)</td>\n",
       "    </tr>\n",
       "    <tr>\n",
       "      <th>1</th>\n",
       "      <td>41.9306</td>\n",
       "      <td>-87.7238</td>\n",
       "      <td>499.0</td>\n",
       "      <td>Kosciuszko Park</td>\n",
       "      <td>2020-04-17 17:17:03</td>\n",
       "      <td>member</td>\n",
       "      <td>5405B80E996FF60D</td>\n",
       "      <td>docked_bike</td>\n",
       "      <td>41.9244</td>\n",
       "      <td>-87.7154</td>\n",
       "      <td>503</td>\n",
       "      <td>Drake Ave &amp; Fullerton Ave</td>\n",
       "      <td>2020-04-17 17:08:54</td>\n",
       "      <td>0.979629</td>\n",
       "      <td>(41.9244, -87.7154)</td>\n",
       "      <td>(41.9306, -87.7238)</td>\n",
       "    </tr>\n",
       "    <tr>\n",
       "      <th>2</th>\n",
       "      <td>41.8679</td>\n",
       "      <td>-87.6230</td>\n",
       "      <td>255.0</td>\n",
       "      <td>Indiana Ave &amp; Roosevelt Rd</td>\n",
       "      <td>2020-04-01 18:08:36</td>\n",
       "      <td>member</td>\n",
       "      <td>5DD24A79A4E006F4</td>\n",
       "      <td>docked_bike</td>\n",
       "      <td>41.8945</td>\n",
       "      <td>-87.6179</td>\n",
       "      <td>142</td>\n",
       "      <td>McClurg Ct &amp; Erie St</td>\n",
       "      <td>2020-04-01 17:54:13</td>\n",
       "      <td>2.984661</td>\n",
       "      <td>(41.8945, -87.6179)</td>\n",
       "      <td>(41.8679, -87.623)</td>\n",
       "    </tr>\n",
       "    <tr>\n",
       "      <th>3</th>\n",
       "      <td>41.8992</td>\n",
       "      <td>-87.6722</td>\n",
       "      <td>657.0</td>\n",
       "      <td>Wood St &amp; Augusta Blvd</td>\n",
       "      <td>2020-04-07 13:02:31</td>\n",
       "      <td>member</td>\n",
       "      <td>2A59BBDF5CDBA725</td>\n",
       "      <td>docked_bike</td>\n",
       "      <td>41.9030</td>\n",
       "      <td>-87.6975</td>\n",
       "      <td>216</td>\n",
       "      <td>California Ave &amp; Division St</td>\n",
       "      <td>2020-04-07 12:50:19</td>\n",
       "      <td>2.141375</td>\n",
       "      <td>(41.903, -87.6975)</td>\n",
       "      <td>(41.8992, -87.6722)</td>\n",
       "    </tr>\n",
       "    <tr>\n",
       "      <th>4</th>\n",
       "      <td>41.9695</td>\n",
       "      <td>-87.6547</td>\n",
       "      <td>323.0</td>\n",
       "      <td>Sheridan Rd &amp; Lawrence Ave</td>\n",
       "      <td>2020-04-18 11:15:54</td>\n",
       "      <td>casual</td>\n",
       "      <td>27AD306C119C6158</td>\n",
       "      <td>docked_bike</td>\n",
       "      <td>41.8902</td>\n",
       "      <td>-87.6262</td>\n",
       "      <td>125</td>\n",
       "      <td>Rush St &amp; Hubbard St</td>\n",
       "      <td>2020-04-18 10:22:59</td>\n",
       "      <td>9.119685</td>\n",
       "      <td>(41.8902, -87.6262)</td>\n",
       "      <td>(41.9695, -87.6547)</td>\n",
       "    </tr>\n",
       "  </tbody>\n",
       "</table>\n",
       "</div>"
      ],
      "text/plain": [
       "   end_lat  end_lng end_station_id             end_station_name  \\\n",
       "0  41.9322 -87.6586          152.0  Lincoln Ave & Diversey Pkwy   \n",
       "1  41.9306 -87.7238          499.0              Kosciuszko Park   \n",
       "2  41.8679 -87.6230          255.0   Indiana Ave & Roosevelt Rd   \n",
       "3  41.8992 -87.6722          657.0       Wood St & Augusta Blvd   \n",
       "4  41.9695 -87.6547          323.0   Sheridan Rd & Lawrence Ave   \n",
       "\n",
       "              ended_at member_casual           ride_id rideable_type  \\\n",
       "0  2020-04-26 18:12:03        member  A847FADBBC638E45   docked_bike   \n",
       "1  2020-04-17 17:17:03        member  5405B80E996FF60D   docked_bike   \n",
       "2  2020-04-01 18:08:36        member  5DD24A79A4E006F4   docked_bike   \n",
       "3  2020-04-07 13:02:31        member  2A59BBDF5CDBA725   docked_bike   \n",
       "4  2020-04-18 11:15:54        casual  27AD306C119C6158   docked_bike   \n",
       "\n",
       "   start_lat  start_lng start_station_id            start_station_name  \\\n",
       "0    41.8964   -87.6610               86                  Eckhart Park   \n",
       "1    41.9244   -87.7154              503     Drake Ave & Fullerton Ave   \n",
       "2    41.8945   -87.6179              142          McClurg Ct & Erie St   \n",
       "3    41.9030   -87.6975              216  California Ave & Division St   \n",
       "4    41.8902   -87.6262              125          Rush St & Hubbard St   \n",
       "\n",
       "            started_at  distance        start_lat_lng          end_lat_lng  \n",
       "0  2020-04-26 17:45:14  3.981346   (41.8964, -87.661)  (41.9322, -87.6586)  \n",
       "1  2020-04-17 17:08:54  0.979629  (41.9244, -87.7154)  (41.9306, -87.7238)  \n",
       "2  2020-04-01 17:54:13  2.984661  (41.8945, -87.6179)   (41.8679, -87.623)  \n",
       "3  2020-04-07 12:50:19  2.141375   (41.903, -87.6975)  (41.8992, -87.6722)  \n",
       "4  2020-04-18 10:22:59  9.119685  (41.8902, -87.6262)  (41.9695, -87.6547)  "
      ]
     },
     "execution_count": 2,
     "metadata": {},
     "output_type": "execute_result"
    }
   ],
   "source": [
    "# データの読み込み\n",
    "df = pd.read_csv(\"./data/wholetime.csv\")\n",
    "df.head()"
   ]
  },
  {
   "cell_type": "code",
   "execution_count": 3,
   "metadata": {},
   "outputs": [],
   "source": [
    "# Get the node_list, edge_list and timestamp\n",
    "def return_nm(df):\n",
    "    df['started_at'] = pd.to_datetime(df['started_at'])\n",
    "    df['ended_at'] = pd.to_datetime(df['ended_at'])\n",
    "    # started_atで昇順にソート\n",
    "    df = df.sort_values(by='started_at')\n",
    "    current_timestamp = df['started_at'].min()\n",
    "    end_timestamp = df[\"started_at\"].max()\n",
    "    interval = timedelta(days=1)\n",
    "\n",
    "    node_list = []\n",
    "    edge_list = []\n",
    "    timestamp = []\n",
    "\n",
    "    while current_timestamp <= end_timestamp:\n",
    "        timestamp.append(current_timestamp)\n",
    "        next_timestamp = current_timestamp + interval\n",
    "        df_tmp = df[(df['started_at'] >= current_timestamp) & (df['started_at'] < next_timestamp)]\n",
    "\n",
    "        # node_listにはユニークなstart_station_idを追加\n",
    "        node_list.append(len(df_tmp['start_station_id'].unique()))\n",
    "\n",
    "        # edge_listにはdf_tmpの行数を追加\n",
    "        edge_list.append(len(df_tmp))\n",
    "\n",
    "        current_timestamp = next_timestamp\n",
    "\n",
    "    # node_listとedge_listで0の値を削除\n",
    "    node_list = np.array(node_list)\n",
    "    edge_list = np.array(edge_list)\n",
    "    timestamp = np.array(timestamp)\n",
    "    active_node_list = node_list[node_list != 0]\n",
    "    edge_list = edge_list[edge_list != 0]\n",
    "    timestamp = timestamp[:len(node_list)]\n",
    "    \n",
    "    return active_node_list, edge_list, timestamp"
   ]
  },
  {
   "cell_type": "code",
   "execution_count": 4,
   "metadata": {},
   "outputs": [],
   "source": [
    "active_node_list, edge_list, timestamp = return_nm(df)"
   ]
  },
  {
   "cell_type": "code",
   "execution_count": null,
   "metadata": {},
   "outputs": [],
   "source": [
    "# データセットをいくつかのグループに分ける\n",
    "df_p1 = df[(df['started_at'] >= '2020-03-01') & (df['started_at'] < '2020-06-01')]\n",
    "df_p2 = df[(df['started_at'] >= '2020-06-01') & (df['started_at'] < '2020-11-01')]\n",
    "df_p3 = df[(df['started_at'] >= '2020-11-01') & (df['started_at'] < '2021-03-01')]\n",
    "df_p4 = df[(df['started_at'] >= '2021-03-01') & (df['started_at'] < '2023-10-01')]\n",
    "\n",
    "node_list_p1, edge_list_p1, timestamp_p1 = return_nm(df_p1)\n",
    "node_list_p2, edge_list_p2, timestamp_p2 = return_nm(df_p2)\n",
    "node_list_p3, edge_list_p3, timestamp_p3 = return_nm(df_p3)\n",
    "node_list_p4, edge_list_p4, timestamp_p4 = return_nm(df_p4)\n"
   ]
  },
  {
   "cell_type": "code",
   "execution_count": null,
   "metadata": {},
   "outputs": [],
   "source": [
    "node_list = [node_list_p1, node_list_p2, node_list_p3, node_list_p4]\n",
    "node_list = max(node_list, key=len)\n",
    "\n",
    "nn = len(node_list)\n",
    "xmin = min(node_list)\n",
    "xmax = max(node_list)\n",
    "p = np.linspace(xmin, xmax, nn)\n",
    "upper_bound = (p**2-p)/2\n",
    "lower_bound = p/2\n",
    "\n",
    "plt.figure(figsize=(20, 10))\n",
    "plt.scatter(node_list_p1, edge_list_p1, label='2020/4~2020/5')\n",
    "plt.scatter(node_list_p2, edge_list_p2, label='2020/6~2020/10')\n",
    "plt.scatter(node_list_p3, edge_list_p3, label='2020/11~2021/2')\n",
    "plt.scatter(node_list_p4, edge_list_p4, label='2021/3~2023/10')\n",
    "plt.plot(p, upper_bound, '--', label=\"upper bound\")\n",
    "plt.plot(p, lower_bound, '-.', label=\"lower bound\")\n",
    "plt.xlabel('N')\n",
    "plt.ylabel('M')\n",
    "plt.xscale('log')\n",
    "plt.yscale('log')\n",
    "plt.legend()\n",
    "plt.show()\n"
   ]
  },
  {
   "cell_type": "code",
   "execution_count": 5,
   "metadata": {},
   "outputs": [],
   "source": [
    "def model1(m, m0, kappa):\n",
    "    Np = (1 + np.sqrt(1 + ((32*m0) / kappa))) / 2\n",
    "    res = Np * (1 - (2 / (kappa * Np)) * (1 - (1 - (kappa / 2)) ** Np) )\n",
    "    if res.any() < 0:\n",
    "        return 0\n",
    "    else:\n",
    "        return res"
   ]
  },
  {
   "cell_type": "code",
   "execution_count": 6,
   "metadata": {},
   "outputs": [],
   "source": [
    "def model2(m, m0, Np):\n",
    "    kappa = 8*m0/(Np**2-Np)\n",
    "    res = Np*(1-2/(kappa*Np)*(1-(1-(kappa/2))**Np))\n",
    "    if res.any() < 0:\n",
    "        return 0\n",
    "    else:\n",
    "        return res"
   ]
  },
  {
   "cell_type": "code",
   "execution_count": 8,
   "metadata": {},
   "outputs": [],
   "source": [
    "def calc_N(Np, kappa):\n",
    "    return Np * (1 - (2 / (kappa * Np))*(1 - (1 - (kappa / 2))**Np))"
   ]
  },
  {
   "cell_type": "code",
   "execution_count": 9,
   "metadata": {},
   "outputs": [],
   "source": [
    "def calc_M(Np, kappa):\n",
    "    return (kappa * Np * (Np - 1)) / 8"
   ]
  },
  {
   "cell_type": "code",
   "execution_count": 81,
   "metadata": {},
   "outputs": [
    {
     "name": "stdout",
     "output_type": "stream",
     "text": [
      "model1:  [1.33421059e-06 5.05546888e-03]\n",
      "model2:  [7.17173333e+01 5.21527178e+05]\n"
     ]
    }
   ],
   "source": [
    "N_fit = []\n",
    "M_fit = []\n",
    "popt, pcov = curve_fit(model1,edge_list,active_node_list,p0=[0, 0.01])\n",
    "print(\"model1: \", popt)\n",
    "\n",
    "Np = []\n",
    "kappa = popt[1]\n",
    "for i in range(len(edge_list)):\n",
    "    Np.append((1+np.sqrt(1+32*edge_list[i]/kappa))/2)\n",
    "\n",
    "\n",
    "for i in range(len(active_node_list)):\n",
    "    N_fit.append(calc_N(Np[i], kappa))\n",
    "\n",
    "for i in range(len(edge_list)):\n",
    "    M_fit.append(calc_M(Np[i], kappa))\n",
    "\n",
    "\n",
    "\n",
    "N_fit2 = []\n",
    "M_fit2 = []\n",
    "popt2, pcov2 = curve_fit(model2, edge_list, active_node_list, p0=[1, 100])\n",
    "print(\"model2: \", popt2)\n",
    "Np2 = popt2[1]\n",
    "kappa2 = []\n",
    "for i in range(len(edge_list)):\n",
    "    kappa2.append(8*edge_list[i]/(Np2**2-Np2))\n",
    "\n",
    "for i in range(len(active_node_list)):\n",
    "    N_fit2.append(calc_N(Np2, kappa2[i]))\n",
    "\n",
    "for i in range(len(edge_list)):\n",
    "    M_fit2.append(calc_M(Np2, kappa2[i]))"
   ]
  },
  {
   "cell_type": "code",
   "execution_count": 82,
   "metadata": {},
   "outputs": [
    {
     "data": {
      "image/png": "[encoded data removed]",
      "text/plain": [
       "<Figure size 1400x700 with 1 Axes>"
      ]
     },
     "metadata": {},
     "output_type": "display_data"
    }
   ],
   "source": [
    "nn = len(active_node_list)\n",
    "xmin = min(active_node_list)\n",
    "xmax = max(active_node_list)\n",
    "p = np.linspace(xmin, xmax, nn)\n",
    "upper_bound = (p**2-p)/2\n",
    "lower_bound = p/2\n",
    "\n",
    "plt.figure(figsize=(14, 7))\n",
    "plt.scatter(active_node_list, edge_list, label='data')\n",
    "plt.scatter(N_fit, M_fit, label='fit', marker='x')\n",
    "plt.scatter(N_fit2, M_fit2, label='fit2', marker='^')\n",
    "plt.plot(p, upper_bound, '--', label=\"upper bound\")\n",
    "plt.plot(p, lower_bound, '-.', label=\"lower bound\")\n",
    "plt.xlabel('N')\n",
    "plt.ylabel('M')\n",
    "plt.xscale('log')\n",
    "plt.yscale('log')\n",
    "plt.legend()\n",
    "plt.show()"
   ]
  },
  {
   "cell_type": "code",
   "execution_count": null,
   "metadata": {},
   "outputs": [],
   "source": []
  },
  {
   "cell_type": "code",
   "execution_count": null,
   "metadata": {},
   "outputs": [],
   "source": []
  },
  {
   "cell_type": "code",
   "execution_count": null,
   "metadata": {},
   "outputs": [],
   "source": [
    "# modell2からフィッティング\n",
    "node_fit = np.linspace(0, 1276, 1276)\n",
    "edge_fit = model2(node_fit, *popt)\n",
    "plt.figure(figsize=(14, 7))\n",
    "plt.scatter(active_node_list_sample, edge_list_sample, label='data')\n",
    "plt.scatter(N_fit, M_fit, label='model2')\n",
    "plt.xlabel('N')\n",
    "plt.ylabel('M')\n",
    "plt.xscale('log')\n",
    "plt.yscale('log')\n",
    "plt.legend()\n",
    "plt.show()"
   ]
  },
  {
   "cell_type": "code",
   "execution_count": null,
   "metadata": {},
   "outputs": [],
   "source": [
    "# Get the node_list, edge_list and timestamp\n",
    "active_node_list_sample, edge_list_sample, timestamp_sample = return_nm(df_sample)\n",
    "\n",
    "# プロット\n",
    "nn = len(active_node_list)\n",
    "xmin = min(active_node_list)\n",
    "xmax = max(active_node_list)\n",
    "p = np.linspace(xmin, xmax, nn)\n",
    "upper_bound = (p**2-p)/2\n",
    "lower_bound = p/2\n",
    "\n",
    "plt.figure(figsize=(14, 7))\n",
    "plt.scatter(active_node_list_sample, edge_list_sample, label='sampling')\n",
    "plt.plot(p, upper_bound, '--', label=\"upper bound\")\n",
    "plt.plot(p, lower_bound, '-.', label=\"lower bound\")\n",
    "plt.xlabel('N')\n",
    "plt.ylabel('M')\n",
    "plt.xscale('log')\n",
    "plt.yscale('log')\n",
    "plt.legend()\n",
    "plt.show()"
   ]
  },
  {
   "cell_type": "code",
   "execution_count": null,
   "metadata": {},
   "outputs": [],
   "source": [
    "# 変数を宣言する\n",
    "N = sym.Symbol('N')\n",
    "M = sym.Symbol('M')\n",
    "kappa = sym.Symbol('kappa')\n",
    "Np = sym.Symbol('Np')"
   ]
  },
  {
   "cell_type": "code",
   "execution_count": null,
   "metadata": {},
   "outputs": [],
   "source": [
    "sym.factorint(100)"
   ]
  },
  {
   "cell_type": "code",
   "execution_count": null,
   "metadata": {},
   "outputs": [],
   "source": [
    "N = Np*(1-(2/(kappa*Np))*(1-(1-(kappa/2))**Np))\n",
    "M = (Np**2-Np)*kappa/8"
   ]
  },
  {
   "cell_type": "code",
   "execution_count": null,
   "metadata": {},
   "outputs": [],
   "source": [
    "N"
   ]
  },
  {
   "cell_type": "code",
   "execution_count": null,
   "metadata": {},
   "outputs": [],
   "source": [
    "# NとMの非線形な連立方程式を解く\n",
    "\n",
    "\n",
    "\n"
   ]
  },
  {
   "cell_type": "markdown",
   "metadata": {},
   "source": [
    "# データの範囲を全体に広げてコードを書く"
   ]
  },
  {
   "cell_type": "code",
   "execution_count": null,
   "metadata": {},
   "outputs": [],
   "source": [
    "df.head()"
   ]
  },
  {
   "cell_type": "code",
   "execution_count": null,
   "metadata": {},
   "outputs": [],
   "source": [
    "active_node_list\n",
    "edge_list\n",
    "timestamp"
   ]
  },
  {
   "cell_type": "code",
   "execution_count": null,
   "metadata": {},
   "outputs": [],
   "source": [
    "nn = len(active_node_list)\n",
    "xmin = min(active_node_list)\n",
    "xmax = max(active_node_list)\n",
    "p = np.linspace(xmin, xmax, nn)\n",
    "upper_bound = (p**2-p)/2\n",
    "lower_bound = p/2\n",
    "\n",
    "plt.figure(figsize=(14, 7))\n",
    "plt.scatter(active_node_list, edge_list)\n",
    "plt.plot(p, upper_bound, '--', label=\"upper bound\")\n",
    "plt.plot(p, lower_bound, '-.', label=\"lower bound\")\n",
    "plt.xlabel('N')\n",
    "plt.ylabel('M')\n",
    "plt.xscale('log')\n",
    "plt.yscale('log')\n",
    "plt.show()\n"
   ]
  },
  {
   "cell_type": "code",
   "execution_count": null,
   "metadata": {},
   "outputs": [],
   "source": [
    "popt, pcov = curve_fit(model1,edge_list,active_node_list, [2, 0.001])\n",
    "print(popt)\n",
    "\n",
    "Np_model1 = []\n",
    "for i in range(len(edge_list_sample)):\n",
    "    Np_model1.append((1+np.sqrt(1+32*edge_list_sample[i]/popt[1]))/2)"
   ]
  },
  {
   "cell_type": "code",
   "execution_count": null,
   "metadata": {},
   "outputs": [],
   "source": [
    "N_fit1 = []\n",
    "M_fit1 = []\n",
    "kappa1 = 5.73980165e-07\n",
    "\n",
    "for i in range(len(active_node_list)):\n",
    "    N_fit1.append(calc_N(Np_model1[i], kappa1))\n",
    "\n",
    "for i in range(len(edge_list)):\n",
    "    M_fit1.append(calc_M(Np_model1[i], kappa1))"
   ]
  },
  {
   "cell_type": "code",
   "execution_count": null,
   "metadata": {},
   "outputs": [],
   "source": [
    "nn = len(active_node_list)\n",
    "xmin = min(active_node_list)\n",
    "xmax = max(active_node_list)\n",
    "p = np.linspace(xmin, xmax, nn)\n",
    "upper_bound = (p**2-p)/2\n",
    "lower_bound = p/2\n",
    "\n",
    "plt.figure(figsize=(14, 7))\n",
    "plt.scatter(active_node_list, edge_list)\n",
    "plt.scatter(N_fit1, M_fit1, label='fit')\n",
    "plt.plot(p, upper_bound, '--', label=\"upper bound\")\n",
    "plt.plot(p, lower_bound, '-.', label=\"lower bound\")\n",
    "plt.xlabel('N')\n",
    "plt.ylabel('M')\n",
    "plt.xscale('log')\n",
    "plt.yscale('log')\n",
    "plt.show()\n"
   ]
  },
  {
   "cell_type": "code",
   "execution_count": null,
   "metadata": {},
   "outputs": [],
   "source": [
    "nn = len(active_node_list)\n",
    "xmin = min(active_node_list)\n",
    "xmax = max(active_node_list)\n",
    "p = np.linspace(xmin, xmax, nn)\n",
    "upper_bound = (p**2-p)/2\n",
    "lower_bound = p/2\n",
    "\n",
    "popt, pcov = curve_fit(model2, active_node_list, edge_list, [100, 1000])\n",
    "Np = popt[1]\n",
    "kappa = []\n",
    "for i in range(len(edge_list)):\n",
    "    kappa.append(8*edge_list[i]/(Np**2-Np))\n",
    "\n",
    "N_fit2 = []\n",
    "M_fit2 = []\n",
    "\n",
    "for i in range(len(active_node_list)):\n",
    "    N_fit2.append(calc_N(Np, kappa[i]))\n",
    "\n",
    "for j in range(len(edge_list)):\n",
    "    M_fit2.append(calc_M(Np, kappa[j]))\n",
    "\n",
    "\n",
    "plt.figure(figsize=(14, 7))\n",
    "plt.scatter(active_node_list, edge_list)\n",
    "plt.scatter(N_fit2, M_fit2, label='fit')\n",
    "plt.plot(p, upper_bound, '--', label=\"upper bound\")\n",
    "plt.plot(p, lower_bound, '-.', label=\"lower bound\")\n",
    "plt.xlabel('N')\n",
    "plt.ylabel('M')\n",
    "plt.xscale('log')\n",
    "plt.yscale('log')\n",
    "plt.show()\n"
   ]
  },
  {
   "cell_type": "code",
   "execution_count": null,
   "metadata": {},
   "outputs": [],
   "source": []
  }
 ],
 "metadata": {
  "kernelspec": {
   "display_name": "venv",
   "language": "python",
   "name": "python3"
  },
  "language_info": {
   "codemirror_mode": {
    "name": "ipython",
    "version": 3
   },
   "file_extension": ".py",
   "mimetype": "text/x-python",
   "name": "python",
   "nbconvert_exporter": "python",
   "pygments_lexer": "ipython3",
   "version": "3.9.6"
  }
 },
 "nbformat": 4,
 "nbformat_minor": 2
}
