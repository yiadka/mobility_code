{
 "cells": [
  {
   "cell_type": "code",
   "execution_count": 6,
   "metadata": {},
   "outputs": [],
   "source": [
    "import pandas as pd\n",
    "import numpy as np\n",
    "import matplotlib.pyplot as plt\n",
    "import seaborn as sns\n",
    "from scipy.optimize import curve_fit\n",
    "from datetime import datetime, timedelta"
   ]
  },
  {
   "cell_type": "code",
   "execution_count": 2,
   "metadata": {},
   "outputs": [
    {
     "data": {
      "text/html": [
       "<div>\n",
       "<style scoped>\n",
       "    .dataframe tbody tr th:only-of-type {\n",
       "        vertical-align: middle;\n",
       "    }\n",
       "\n",
       "    .dataframe tbody tr th {\n",
       "        vertical-align: top;\n",
       "    }\n",
       "\n",
       "    .dataframe thead th {\n",
       "        text-align: right;\n",
       "    }\n",
       "</style>\n",
       "<table border=\"1\" class=\"dataframe\">\n",
       "  <thead>\n",
       "    <tr style=\"text-align: right;\">\n",
       "      <th></th>\n",
       "      <th>ride_id</th>\n",
       "      <th>rideable_type</th>\n",
       "      <th>started_at</th>\n",
       "      <th>ended_at</th>\n",
       "      <th>start_station_name</th>\n",
       "      <th>start_station_id</th>\n",
       "      <th>end_station_name</th>\n",
       "      <th>end_station_id</th>\n",
       "      <th>start_lat</th>\n",
       "      <th>start_lng</th>\n",
       "      <th>end_lat</th>\n",
       "      <th>end_lng</th>\n",
       "      <th>member_casual</th>\n",
       "    </tr>\n",
       "  </thead>\n",
       "  <tbody>\n",
       "    <tr>\n",
       "      <th>0</th>\n",
       "      <td>241C440C74CB31BB</td>\n",
       "      <td>classic_bike</td>\n",
       "      <td>2022-08-05 16:13:36</td>\n",
       "      <td>2022-08-05 16:22:40</td>\n",
       "      <td>DuSable Museum</td>\n",
       "      <td>KA1503000075</td>\n",
       "      <td>Cottage Grove Ave &amp; 51st St</td>\n",
       "      <td>TA1309000067</td>\n",
       "      <td>41.791568</td>\n",
       "      <td>-87.607852</td>\n",
       "      <td>41.803038</td>\n",
       "      <td>-87.606615</td>\n",
       "      <td>casual</td>\n",
       "    </tr>\n",
       "    <tr>\n",
       "      <th>1</th>\n",
       "      <td>53A7590B28ED25E2</td>\n",
       "      <td>classic_bike</td>\n",
       "      <td>2022-08-11 23:30:11</td>\n",
       "      <td>2022-08-11 23:30:56</td>\n",
       "      <td>California Ave &amp; Milwaukee Ave</td>\n",
       "      <td>13084</td>\n",
       "      <td>California Ave &amp; Milwaukee Ave</td>\n",
       "      <td>13084</td>\n",
       "      <td>41.922695</td>\n",
       "      <td>-87.697153</td>\n",
       "      <td>41.922695</td>\n",
       "      <td>-87.697153</td>\n",
       "      <td>casual</td>\n",
       "    </tr>\n",
       "    <tr>\n",
       "      <th>2</th>\n",
       "      <td>C34EE790A58C0434</td>\n",
       "      <td>classic_bike</td>\n",
       "      <td>2022-08-21 14:09:08</td>\n",
       "      <td>2022-08-21 15:10:46</td>\n",
       "      <td>California Ave &amp; Division St</td>\n",
       "      <td>13256</td>\n",
       "      <td>California Ave &amp; Division St</td>\n",
       "      <td>13256</td>\n",
       "      <td>41.903029</td>\n",
       "      <td>-87.697474</td>\n",
       "      <td>41.903029</td>\n",
       "      <td>-87.697474</td>\n",
       "      <td>casual</td>\n",
       "    </tr>\n",
       "    <tr>\n",
       "      <th>3</th>\n",
       "      <td>49259B4BA064D81B</td>\n",
       "      <td>electric_bike</td>\n",
       "      <td>2022-08-21 16:15:12</td>\n",
       "      <td>2022-08-21 16:29:30</td>\n",
       "      <td>Wood St &amp; Chicago Ave</td>\n",
       "      <td>637</td>\n",
       "      <td>Wood St &amp; Chicago Ave</td>\n",
       "      <td>637</td>\n",
       "      <td>41.895673</td>\n",
       "      <td>-87.672075</td>\n",
       "      <td>41.895634</td>\n",
       "      <td>-87.672069</td>\n",
       "      <td>casual</td>\n",
       "    </tr>\n",
       "    <tr>\n",
       "      <th>4</th>\n",
       "      <td>BEE91D557E47FE83</td>\n",
       "      <td>classic_bike</td>\n",
       "      <td>2022-08-21 02:11:26</td>\n",
       "      <td>2022-08-21 03:44:04</td>\n",
       "      <td>California Ave &amp; Milwaukee Ave</td>\n",
       "      <td>13084</td>\n",
       "      <td>California Ave &amp; Milwaukee Ave</td>\n",
       "      <td>13084</td>\n",
       "      <td>41.922695</td>\n",
       "      <td>-87.697153</td>\n",
       "      <td>41.922695</td>\n",
       "      <td>-87.697153</td>\n",
       "      <td>casual</td>\n",
       "    </tr>\n",
       "  </tbody>\n",
       "</table>\n",
       "</div>"
      ],
      "text/plain": [
       "            ride_id  rideable_type           started_at             ended_at  \\\n",
       "0  241C440C74CB31BB   classic_bike  2022-08-05 16:13:36  2022-08-05 16:22:40   \n",
       "1  53A7590B28ED25E2   classic_bike  2022-08-11 23:30:11  2022-08-11 23:30:56   \n",
       "2  C34EE790A58C0434   classic_bike  2022-08-21 14:09:08  2022-08-21 15:10:46   \n",
       "3  49259B4BA064D81B  electric_bike  2022-08-21 16:15:12  2022-08-21 16:29:30   \n",
       "4  BEE91D557E47FE83   classic_bike  2022-08-21 02:11:26  2022-08-21 03:44:04   \n",
       "\n",
       "               start_station_name start_station_id  \\\n",
       "0                  DuSable Museum     KA1503000075   \n",
       "1  California Ave & Milwaukee Ave            13084   \n",
       "2    California Ave & Division St            13256   \n",
       "3           Wood St & Chicago Ave              637   \n",
       "4  California Ave & Milwaukee Ave            13084   \n",
       "\n",
       "                 end_station_name end_station_id  start_lat  start_lng  \\\n",
       "0     Cottage Grove Ave & 51st St   TA1309000067  41.791568 -87.607852   \n",
       "1  California Ave & Milwaukee Ave          13084  41.922695 -87.697153   \n",
       "2    California Ave & Division St          13256  41.903029 -87.697474   \n",
       "3           Wood St & Chicago Ave            637  41.895673 -87.672075   \n",
       "4  California Ave & Milwaukee Ave          13084  41.922695 -87.697153   \n",
       "\n",
       "     end_lat    end_lng member_casual  \n",
       "0  41.803038 -87.606615        casual  \n",
       "1  41.922695 -87.697153        casual  \n",
       "2  41.903029 -87.697474        casual  \n",
       "3  41.895634 -87.672069        casual  \n",
       "4  41.922695 -87.697153        casual  "
      ]
     },
     "execution_count": 2,
     "metadata": {},
     "output_type": "execute_result"
    }
   ],
   "source": [
    "df = pd.read_csv(\"./csv_202203_202309/chicago_bike_202203_202309.csv\")\n",
    "df = df.dropna()\n",
    "df.head()"
   ]
  },
  {
   "cell_type": "code",
   "execution_count": 13,
   "metadata": {},
   "outputs": [
    {
     "data": {
      "text/html": [
       "<div>\n",
       "<style scoped>\n",
       "    .dataframe tbody tr th:only-of-type {\n",
       "        vertical-align: middle;\n",
       "    }\n",
       "\n",
       "    .dataframe tbody tr th {\n",
       "        vertical-align: top;\n",
       "    }\n",
       "\n",
       "    .dataframe thead th {\n",
       "        text-align: right;\n",
       "    }\n",
       "</style>\n",
       "<table border=\"1\" class=\"dataframe\">\n",
       "  <thead>\n",
       "    <tr style=\"text-align: right;\">\n",
       "      <th></th>\n",
       "      <th>ride_id</th>\n",
       "      <th>rideable_type</th>\n",
       "      <th>started_at</th>\n",
       "      <th>ended_at</th>\n",
       "      <th>start_station_name</th>\n",
       "      <th>start_station_id</th>\n",
       "      <th>end_station_name</th>\n",
       "      <th>end_station_id</th>\n",
       "      <th>start_lat</th>\n",
       "      <th>start_lng</th>\n",
       "      <th>end_lat</th>\n",
       "      <th>end_lng</th>\n",
       "      <th>member_casual</th>\n",
       "    </tr>\n",
       "  </thead>\n",
       "  <tbody>\n",
       "    <tr>\n",
       "      <th>3768399</th>\n",
       "      <td>DC65867E66208AF5</td>\n",
       "      <td>electric_bike</td>\n",
       "      <td>2023-06-22 09:04:33</td>\n",
       "      <td>2023-06-22 09:07:20</td>\n",
       "      <td>Jefferson St &amp; Monroe St</td>\n",
       "      <td>WL-011</td>\n",
       "      <td>Franklin St &amp; Monroe St</td>\n",
       "      <td>TA1309000007</td>\n",
       "      <td>41.880364</td>\n",
       "      <td>-87.642653</td>\n",
       "      <td>41.880317</td>\n",
       "      <td>-87.635185</td>\n",
       "      <td>casual</td>\n",
       "    </tr>\n",
       "    <tr>\n",
       "      <th>233945</th>\n",
       "      <td>85B7B9E837C5DCE5</td>\n",
       "      <td>classic_bike</td>\n",
       "      <td>2022-08-17 06:47:22</td>\n",
       "      <td>2022-08-17 06:52:15</td>\n",
       "      <td>Southport Ave &amp; Wellington Ave</td>\n",
       "      <td>TA1307000006</td>\n",
       "      <td>Southport Ave &amp; Roscoe St</td>\n",
       "      <td>13071</td>\n",
       "      <td>41.935733</td>\n",
       "      <td>-87.663576</td>\n",
       "      <td>41.943739</td>\n",
       "      <td>-87.664020</td>\n",
       "      <td>casual</td>\n",
       "    </tr>\n",
       "    <tr>\n",
       "      <th>3366502</th>\n",
       "      <td>9E710060FFDA29C4</td>\n",
       "      <td>classic_bike</td>\n",
       "      <td>2023-08-27 15:17:04</td>\n",
       "      <td>2023-08-27 15:23:17</td>\n",
       "      <td>Sheffield Ave &amp; Wrightwood Ave</td>\n",
       "      <td>TA1309000023</td>\n",
       "      <td>DuSable Lake Shore Dr &amp; Diversey Pkwy</td>\n",
       "      <td>TA1309000039</td>\n",
       "      <td>41.928712</td>\n",
       "      <td>-87.653833</td>\n",
       "      <td>41.932588</td>\n",
       "      <td>-87.636427</td>\n",
       "      <td>casual</td>\n",
       "    </tr>\n",
       "    <tr>\n",
       "      <th>7538323</th>\n",
       "      <td>D6C7C2DDC5ED2F14</td>\n",
       "      <td>classic_bike</td>\n",
       "      <td>2023-01-17 13:15:37</td>\n",
       "      <td>2023-01-17 13:21:11</td>\n",
       "      <td>Halsted St &amp; 63rd St</td>\n",
       "      <td>KA1503000055</td>\n",
       "      <td>Racine Ave &amp; 61st St</td>\n",
       "      <td>562</td>\n",
       "      <td>41.779381</td>\n",
       "      <td>-87.644621</td>\n",
       "      <td>41.783189</td>\n",
       "      <td>-87.654372</td>\n",
       "      <td>casual</td>\n",
       "    </tr>\n",
       "    <tr>\n",
       "      <th>960848</th>\n",
       "      <td>98C3242566E0AC2E</td>\n",
       "      <td>docked_bike</td>\n",
       "      <td>2022-05-29 14:49:34</td>\n",
       "      <td>2022-05-29 15:25:40</td>\n",
       "      <td>DuSable Lake Shore Dr &amp; Belmont Ave</td>\n",
       "      <td>TA1309000049</td>\n",
       "      <td>Streeter Dr &amp; Grand Ave</td>\n",
       "      <td>13022</td>\n",
       "      <td>41.940775</td>\n",
       "      <td>-87.639192</td>\n",
       "      <td>41.892278</td>\n",
       "      <td>-87.612043</td>\n",
       "      <td>casual</td>\n",
       "    </tr>\n",
       "  </tbody>\n",
       "</table>\n",
       "</div>"
      ],
      "text/plain": [
       "                  ride_id  rideable_type           started_at  \\\n",
       "3768399  DC65867E66208AF5  electric_bike  2023-06-22 09:04:33   \n",
       "233945   85B7B9E837C5DCE5   classic_bike  2022-08-17 06:47:22   \n",
       "3366502  9E710060FFDA29C4   classic_bike  2023-08-27 15:17:04   \n",
       "7538323  D6C7C2DDC5ED2F14   classic_bike  2023-01-17 13:15:37   \n",
       "960848   98C3242566E0AC2E    docked_bike  2022-05-29 14:49:34   \n",
       "\n",
       "                    ended_at                   start_station_name  \\\n",
       "3768399  2023-06-22 09:07:20             Jefferson St & Monroe St   \n",
       "233945   2022-08-17 06:52:15       Southport Ave & Wellington Ave   \n",
       "3366502  2023-08-27 15:23:17       Sheffield Ave & Wrightwood Ave   \n",
       "7538323  2023-01-17 13:21:11                 Halsted St & 63rd St   \n",
       "960848   2022-05-29 15:25:40  DuSable Lake Shore Dr & Belmont Ave   \n",
       "\n",
       "        start_station_id                       end_station_name  \\\n",
       "3768399           WL-011                Franklin St & Monroe St   \n",
       "233945      TA1307000006              Southport Ave & Roscoe St   \n",
       "3366502     TA1309000023  DuSable Lake Shore Dr & Diversey Pkwy   \n",
       "7538323     KA1503000055                   Racine Ave & 61st St   \n",
       "960848      TA1309000049                Streeter Dr & Grand Ave   \n",
       "\n",
       "        end_station_id  start_lat  start_lng    end_lat    end_lng  \\\n",
       "3768399   TA1309000007  41.880364 -87.642653  41.880317 -87.635185   \n",
       "233945           13071  41.935733 -87.663576  41.943739 -87.664020   \n",
       "3366502   TA1309000039  41.928712 -87.653833  41.932588 -87.636427   \n",
       "7538323            562  41.779381 -87.644621  41.783189 -87.654372   \n",
       "960848           13022  41.940775 -87.639192  41.892278 -87.612043   \n",
       "\n",
       "        member_casual  \n",
       "3768399        casual  \n",
       "233945         casual  \n",
       "3366502        casual  \n",
       "7538323        casual  \n",
       "960848         casual  "
      ]
     },
     "execution_count": 13,
     "metadata": {},
     "output_type": "execute_result"
    }
   ],
   "source": [
    "# 1000件サンプリングする\n",
    "sample = df.sample(n=1000, random_state=0)\n",
    "sample.head()"
   ]
  },
  {
   "cell_type": "code",
   "execution_count": 4,
   "metadata": {},
   "outputs": [],
   "source": [
    "def return_nm(df):\n",
    "    df['started_at'] = pd.to_datetime(df['started_at'])\n",
    "    df['ended_at'] = pd.to_datetime(df['ended_at'])\n",
    "    # started_atで昇順にソート\n",
    "    df = df.sort_values(by='started_at')\n",
    "    current_timestamp = df['started_at'].min()\n",
    "    end_timestamp = df[\"started_at\"].max()\n",
    "    interval = timedelta(days=1)\n",
    "\n",
    "    node_list = []\n",
    "    edge_list = []\n",
    "    timestamp = []\n",
    "\n",
    "    while current_timestamp <= end_timestamp:\n",
    "        timestamp.append(current_timestamp)\n",
    "        next_timestamp = current_timestamp + interval\n",
    "        df_tmp = df[(df['started_at'] >= current_timestamp) & (df['started_at'] < next_timestamp)]\n",
    "\n",
    "        # node_listにはユニークなstart_station_idを追加\n",
    "        node_list.append(len(df_tmp['start_station_id'].unique()))\n",
    "\n",
    "        # edge_listにはdf_tmpの行数を追加\n",
    "        edge_list.append(len(df_tmp))\n",
    "\n",
    "        current_timestamp = next_timestamp\n",
    "\n",
    "    return node_list, edge_list, timestamp"
   ]
  },
  {
   "cell_type": "code",
   "execution_count": 34,
   "metadata": {},
   "outputs": [],
   "source": [
    "node_list, edge_list, timestamp = return_nm(df)"
   ]
  },
  {
   "cell_type": "code",
   "execution_count": 15,
   "metadata": {},
   "outputs": [
    {
     "data": {
      "image/png": "[encoded data removed]",
      "text/plain": [
       "<Figure size 2000x1000 with 1 Axes>"
      ]
     },
     "metadata": {},
     "output_type": "display_data"
    }
   ],
   "source": [
    "# node_listとedge_listをグラフにプロット\n",
    "fig = plt.figure(figsize=(20, 10))\n",
    "ax = fig.add_subplot(111)\n",
    "ax.scatter(node_list, edge_list, label='N-M Scaling')\n",
    "ax.set_xlabel('N')\n",
    "ax.set_ylabel('M')\n",
    "ax.set_xscale('log')\n",
    "ax.set_yscale('log')\n",
    "ax.legend()\n",
    "plt.show()\n"
   ]
  },
  {
   "cell_type": "code",
   "execution_count": 16,
   "metadata": {},
   "outputs": [],
   "source": [
    "# model1を使って、kappaを推定する\n",
    "def model1(x, kappa):\n",
    "    a = (1+np.sqrt(1+(32*x/kappa)))/2\n",
    "    return a*(1-2/a*kappa*(1-(1-kappa/2)**a))"
   ]
  },
  {
   "cell_type": "code",
   "execution_count": 50,
   "metadata": {},
   "outputs": [
    {
     "name": "stdout",
     "output_type": "stream",
     "text": [
      "kappa: 2.671594175788461e-05\n"
     ]
    },
    {
     "name": "stderr",
     "output_type": "stream",
     "text": [
      "/var/folders/t8/gtqjgg0n60jdkgk801tvsrx40000gn/T/ipykernel_11798/1945244423.py:3: RuntimeWarning: invalid value encountered in sqrt\n",
      "  a = (1+np.sqrt(1+(32*x/kappa)))/2\n"
     ]
    }
   ],
   "source": [
    "popt, pcov = curve_fit(model1,node_list,edge_list,p0=[1])\n",
    "kappa = popt[0]\n",
    "print(\"kappa:\", kappa)"
   ]
  },
  {
   "cell_type": "code",
   "execution_count": 51,
   "metadata": {},
   "outputs": [],
   "source": [
    "Np = []\n",
    "for i in range(len(edge_list)):\n",
    "    Np.append(1+np.sqrt(1+32*edge_list[i]/kappa)/2)"
   ]
  },
  {
   "cell_type": "code",
   "execution_count": 52,
   "metadata": {},
   "outputs": [
    {
     "data": {
      "image/png": "[encoded data removed]",
      "text/plain": [
       "<Figure size 2000x1000 with 1 Axes>"
      ]
     },
     "metadata": {},
     "output_type": "display_data"
    }
   ],
   "source": [
    "# node_listとedge_listをグラフにプロット\n",
    "fig = plt.figure(figsize=(20, 10))\n",
    "ax = fig.add_subplot(111)\n",
    "ax.scatter(node_list, edge_list, label='N-M Scaling')\n",
    "ax.scatter(node_list, Np, label='Np')\n",
    "ax.set_xlabel('N')\n",
    "ax.set_ylabel('M')\n",
    "ax.set_xscale('log')\n",
    "ax.set_yscale('log')\n",
    "ax.legend()\n",
    "plt.show()\n"
   ]
  },
  {
   "cell_type": "code",
   "execution_count": 27,
   "metadata": {},
   "outputs": [],
   "source": [
    "def model1_Np(m, *params):\n",
    "    kappa = 1.0876\n",
    "    return 1+np.sqrt(1+32*edge_list/kappa)/2"
   ]
  },
  {
   "cell_type": "code",
   "execution_count": 21,
   "metadata": {},
   "outputs": [],
   "source": [
    "param_init = 1.0\n",
    "sample_x = np.arange(1, 1000, 10)"
   ]
  },
  {
   "cell_type": "code",
   "execution_count": 28,
   "metadata": {},
   "outputs": [],
   "source": [
    "# フィッティングを行うための関数\n",
    "def fit(func, X, Y, param_init):\n",
    "    \"\"\"\n",
    "    func:データxに近似したい任意の関数\n",
    "    x:データ\n",
    "    param_init:パラメータの初期値\n",
    "    popｔ:最適化されたパラメータ\n",
    "    pocv:パラメータの共分散\n",
    "    \"\"\"\n",
    "    popt,pocv=curve_fit(func, X, Y, p0=param_init)\n",
    "    perr = np.sqrt(np.diag(pocv)) #対角成分が各パラメータの標準誤差に相当\n",
    "    y=func(sample_x, *popt)\n",
    "    return y, popt, perr"
   ]
  },
  {
   "cell_type": "code",
   "execution_count": 29,
   "metadata": {},
   "outputs": [
    {
     "ename": "TypeError",
     "evalue": "fit() missing 1 required positional argument: 'Y'",
     "output_type": "error",
     "traceback": [
      "\u001b[0;31m---------------------------------------------------------------------------\u001b[0m",
      "\u001b[0;31mTypeError\u001b[0m                                 Traceback (most recent call last)",
      "\u001b[1;32m/Users/ykaida/Documents/dev/mobility_code/chicago_interpolation.ipynb Cell 12\u001b[0m line \u001b[0;36m1\n\u001b[0;32m----> <a href='vscode-notebook-cell:/Users/ykaida/Documents/dev/mobility_code/chicago_interpolation.ipynb#X14sZmlsZQ%3D%3D?line=0'>1</a>\u001b[0m result \u001b[39m=\u001b[39m fit(model1_Np, edge_list, param_init\u001b[39m=\u001b[39;49mparam_init)\n\u001b[1;32m      <a href='vscode-notebook-cell:/Users/ykaida/Documents/dev/mobility_code/chicago_interpolation.ipynb#X14sZmlsZQ%3D%3D?line=1'>2</a>\u001b[0m fig, ax \u001b[39m=\u001b[39m plt\u001b[39m.\u001b[39msubplots(\u001b[39m1\u001b[39m, \u001b[39m1\u001b[39m, figsize\u001b[39m=\u001b[39m(\u001b[39m6\u001b[39m, \u001b[39m6\u001b[39m))\n\u001b[1;32m      <a href='vscode-notebook-cell:/Users/ykaida/Documents/dev/mobility_code/chicago_interpolation.ipynb#X14sZmlsZQ%3D%3D?line=2'>3</a>\u001b[0m ax\u001b[39m.\u001b[39mscatter(node_list, edge_list, label\u001b[39m=\u001b[39m\u001b[39m'\u001b[39m\u001b[39mN-M Scaling\u001b[39m\u001b[39m'\u001b[39m)\n",
      "\u001b[0;31mTypeError\u001b[0m: fit() missing 1 required positional argument: 'Y'"
     ]
    }
   ],
   "source": [
    "result = fit(model1_Np, edge_list, param_init=param_init)\n",
    "fig, ax = plt.subplots(1, 1, figsize=(6, 6))\n",
    "ax.scatter(node_list, edge_list, label='N-M Scaling')\n",
    "ax.plot(sample_x, result[0])"
   ]
  },
  {
   "cell_type": "code",
   "execution_count": null,
   "metadata": {},
   "outputs": [],
   "source": []
  }
 ],
 "metadata": {
  "kernelspec": {
   "display_name": "venv",
   "language": "python",
   "name": "python3"
  },
  "language_info": {
   "codemirror_mode": {
    "name": "ipython",
    "version": 3
   },
   "file_extension": ".py",
   "mimetype": "text/x-python",
   "name": "python",
   "nbconvert_exporter": "python",
   "pygments_lexer": "ipython3",
   "version": "3.10.0"
  }
 },
 "nbformat": 4,
 "nbformat_minor": 2
}
