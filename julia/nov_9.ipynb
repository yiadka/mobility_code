{
 "cells": [
  {
   "cell_type": "markdown",
   "metadata": {},
   "source": [
    "## 1次元数値積分"
   ]
  },
  {
   "cell_type": "code",
   "execution_count": 1,
   "metadata": {},
   "outputs": [],
   "source": [
    "using QuadGK\n",
    "using Plots"
   ]
  },
  {
   "cell_type": "code",
   "execution_count": 2,
   "metadata": {},
   "outputs": [
    {
     "name": "stdout",
     "output_type": "stream",
     "text": [
      "quadgk 3.2898681336964524, exact 3.2898681336964524\n"
     ]
    }
   ],
   "source": [
    "f(x) = sin(x) + x^2\n",
    "fsum2 = quadgk(f, -π, π)[1]/(2π)\n",
    "exact = ((π)^3/3 -(-π)^3/3)/(2π)\n",
    "println(\"quadgk $fsum2, exact $exact\")"
   ]
  },
  {
   "cell_type": "markdown",
   "metadata": {},
   "source": [
    "## 常微分方程式"
   ]
  },
  {
   "cell_type": "code",
   "execution_count": 3,
   "metadata": {},
   "outputs": [],
   "source": [
    "using DifferentialEquations"
   ]
  },
  {
   "cell_type": "code",
   "execution_count": 4,
   "metadata": {},
   "outputs": [
    {
     "name": "stdout",
     "output_type": "stream",
     "text": [
      "t = 0.0, u = 0.5)\n",
      "t = 0.02040816326530612, u = 0.5104130721711381)\n",
      "t = 0.04081632653061224, u = 0.521043008483123)\n",
      "t = 0.061224489795918366, u = 0.5318943253888133)\n",
      "t = 0.08163265306122448, u = 0.5429716333785455)\n",
      "t = 0.10204081632653061, u = 0.5542796390000767)\n",
      "t = 0.12244897959183673, u = 0.5658231467495112)\n",
      "t = 0.14285714285714285, u = 0.5776070613117803)\n",
      "t = 0.16326530612244897, u = 0.5896363893061379)\n",
      "t = 0.1836734693877551, u = 0.6019162418595129)\n",
      "t = 0.20408163265306123, u = 0.614451836460907)\n",
      "t = 0.22448979591836735, u = 0.627248499015715)\n",
      "t = 0.24489795918367346, u = 0.6403116668043461)\n",
      "t = 0.2653061224489796, u = 0.653646890114023)\n",
      "t = 0.2857142857142857, u = 0.6672598344918741)\n",
      "t = 0.30612244897959184, u = 0.6811562840751797)\n",
      "t = 0.32653061224489793, u = 0.69534214330177)\n",
      "t = 0.3469387755102041, u = 0.709823439167801)\n",
      "t = 0.3673469387755102, u = 0.7246063243662835)\n",
      "t = 0.3877551020408163, u = 0.7396970803354678)\n",
      "t = 0.40816326530612246, u = 0.7551021187367932)\n",
      "t = 0.42857142857142855, u = 0.7708279843120129)\n",
      "t = 0.4489795918367347, u = 0.7868813589620692)\n",
      "t = 0.46938775510204084, u = 0.8032690638491461)\n",
      "t = 0.4897959183673469, u = 0.819998061640704)\n",
      "t = 0.5102040816326531, u = 0.8370754593880263)\n",
      "t = 0.5306122448979592, u = 0.8545085134765856)\n",
      "t = 0.5510204081632653, u = 0.8723046312870067)\n",
      "t = 0.5714285714285714, u = 0.8904713738588587)\n",
      "t = 0.5918367346938775, u = 0.9090164589586454)\n",
      "t = 0.6122448979591837, u = 0.9279477665697792)\n",
      "t = 0.6326530612244898, u = 0.9472733409000353)\n",
      "t = 0.6530612244897959, u = 0.9670013927005341)\n",
      "t = 0.673469387755102, u = 0.987140303134498)\n",
      "t = 0.6938775510204082, u = 1.0076986290220513)\n",
      "t = 0.7142857142857143, u = 1.028685106277673)\n",
      "t = 0.7346938775510204, u = 1.0501086512463618)\n",
      "t = 0.7551020408163265, u = 1.0719783657478243)\n",
      "t = 0.7755102040816326, u = 1.0943035412398292)\n",
      "t = 0.7959183673469388, u = 1.1170936646361271)\n",
      "t = 0.8163265306122449, u = 1.140358418933921)\n",
      "t = 0.8367346938775511, u = 1.1641076885491644)\n",
      "t = 0.8571428571428571, u = 1.188351562705087)\n",
      "t = 0.8775510204081632, u = 1.2131003433437115)\n",
      "t = 0.8979591836734694, u = 1.2383645465582993)\n",
      "t = 0.9183673469387755, u = 1.2641549060829267)\n",
      "t = 0.9387755102040817, u = 1.2904823784812394)\n",
      "t = 0.9591836734693877, u = 1.3173581498692002)\n",
      "t = 0.9795918367346939, u = 1.344793640942734)\n",
      "t = 1.0, u = 1.3728005076225744)\n"
     ]
    }
   ],
   "source": [
    "f(u, p, t) = 1.01*u\n",
    "u0 = 1/2\n",
    "tspan = (0.0, 1.0)\n",
    "prob = ODEProblem(f, u0, tspan)\n",
    "sol = solve(prob, Tsit5(), reltol=1e-8, abstol=1e-8)\n",
    "nt = 50\n",
    "t = range(0.0, stop=1.0, length=nt)\n",
    "for i=1:nt\n",
    "    println(\"t = $(t[i]), u = $(sol(t[i])))\")\n",
    "end"
   ]
  },
  {
   "cell_type": "code",
   "execution_count": 5,
   "metadata": {},
   "outputs": [
    {
     "data": {
      "text/plain": [
       "parameterized_lorenz (generic function with 1 method)"
      ]
     },
     "metadata": {},
     "output_type": "display_data"
    }
   ],
   "source": [
    "function parameterized_lorenz(du, u, p, t)\n",
    "    du[1] = p[1]*(u[2]-u[1])\n",
    "    du[2] = u[1]*(p[2]-u[3]) - u[2]\n",
    "    du[3] = u[1]*u[2] - p[3]*u[3]\n",
    "end"
   ]
  },
  {
   "cell_type": "code",
   "execution_count": 6,
   "metadata": {},
   "outputs": [
    {
     "data": {
      "text/plain": [
       "\u001b[38;2;86;182;194mODEProblem\u001b[0m with uType \u001b[38;2;86;182;194mVector{Float64}\u001b[0m and tType \u001b[38;2;86;182;194mFloat64\u001b[0m. In-place: \u001b[38;2;86;182;194mtrue\u001b[0m\n",
       "timespan: (0.0, 1.0)\n",
       "u0: 3-element Vector{Float64}:\n",
       " 1.0\n",
       " 0.0\n",
       " 0.0"
      ]
     },
     "metadata": {},
     "output_type": "display_data"
    }
   ],
   "source": [
    "u0 = [1.0, 0.0, 0.0]\n",
    "tspan = (0.0, 1.0)\n",
    "p = [10.0, 28.0, 8/3]\n",
    "prob = ODEProblem(parameterized_lorenz, u0, tspan, p)    "
   ]
  },
  {
   "cell_type": "markdown",
   "metadata": {},
   "source": [
    "## 非線形関数の最小値"
   ]
  },
  {
   "cell_type": "code",
   "execution_count": 4,
   "metadata": {},
   "outputs": [],
   "source": [
    "using Optim"
   ]
  },
  {
   "cell_type": "code",
   "execution_count": 8,
   "metadata": {},
   "outputs": [
    {
     "name": "stdout",
     "output_type": "stream",
     "text": [
      "xsol = [0.9999634355313174, 0.9999315506115275]\n",
      "fmin = 3.5255270584829996e-9\n"
     ]
    }
   ],
   "source": [
    "f(x) = (1.0 - x[1])^2 + 100.0 * (x[2] - x[1]^2)^2\n",
    "x0 = [0.0, 0.0]\n",
    "a1 = optimize(f, x0)\n",
    "# arg minを計算してる？\n",
    "xsol = Optim.minimizer(a1)\n",
    "println(\"xsol = $xsol\")\n",
    "fmin = Optim.minimum(a1)\n",
    "println(\"fmin = $fmin\")"
   ]
  },
  {
   "cell_type": "code",
   "execution_count": 10,
   "metadata": {},
   "outputs": [
    {
     "name": "stdout",
     "output_type": "stream",
     "text": [
      "xsol = -0.75\n",
      "fmin = -0.125\n"
     ]
    }
   ],
   "source": [
    "f2(x) = 2*x^2 + 3*x + 1\n",
    "a2 = optimize(f2, -2, 1)\n",
    "xsol = Optim.minimizer(a2)\n",
    "println(\"xsol = $xsol\")\n",
    "fmin = Optim.minimum(a2)\n",
    "println(\"fmin = $fmin\")"
   ]
  },
  {
   "cell_type": "markdown",
   "metadata": {},
   "source": [
    "## 実データの分析"
   ]
  },
  {
   "cell_type": "code",
   "execution_count": 5,
   "metadata": {},
   "outputs": [],
   "source": [
    "using CSV, DataFrames"
   ]
  },
  {
   "cell_type": "code",
   "execution_count": 13,
   "metadata": {},
   "outputs": [
    {
     "data": {
      "text/html": [
       "<div><div style = \"float: left;\"><span>18953057×16 DataFrame</span></div><div style = \"float: right;\"><span style = \"font-style: italic;\">18953032 rows omitted</span></div><div style = \"clear: both;\"></div></div><div class = \"data-frame\" style = \"overflow-x: scroll;\"><table class = \"data-frame\" style = \"margin-bottom: 6px;\"><thead><tr class = \"header\"><th class = \"rowNumber\" style = \"font-weight: bold; text-align: right;\">Row</th><th style = \"text-align: left;\">end_lat</th><th style = \"text-align: left;\">end_lng</th><th style = \"text-align: left;\">end_station_id</th><th style = \"text-align: left;\">end_station_name</th><th style = \"text-align: left;\">ended_at</th><th style = \"text-align: left;\">member_casual</th><th style = \"text-align: left;\">ride_id</th><th style = \"text-align: left;\">rideable_type</th><th style = \"text-align: left;\">start_lat</th><th style = \"text-align: left;\">start_lng</th><th style = \"text-align: left;\">start_station_id</th><th style = \"text-align: left;\">start_station_name</th><th style = \"text-align: left;\">started_at</th><th style = \"text-align: left;\">distance</th><th style = \"text-align: left;\">start_lat_lng</th><th style = \"text-align: left;\">end_lat_lng</th></tr><tr class = \"subheader headerLastRow\"><th class = \"rowNumber\" style = \"font-weight: bold; text-align: right;\"></th><th title = \"Float64\" style = \"text-align: left;\">Float64</th><th title = \"Float64\" style = \"text-align: left;\">Float64</th><th title = \"Union{Missing, String}\" style = \"text-align: left;\">String?</th><th title = \"Union{Missing, String}\" style = \"text-align: left;\">String?</th><th title = \"String31\" style = \"text-align: left;\">String31</th><th title = \"String7\" style = \"text-align: left;\">String7</th><th title = \"String31\" style = \"text-align: left;\">String31</th><th title = \"String15\" style = \"text-align: left;\">String15</th><th title = \"Float64\" style = \"text-align: left;\">Float64</th><th title = \"Float64\" style = \"text-align: left;\">Float64</th><th title = \"Union{Missing, String}\" style = \"text-align: left;\">String?</th><th title = \"Union{Missing, String}\" style = \"text-align: left;\">String?</th><th title = \"String31\" style = \"text-align: left;\">String31</th><th title = \"Float64\" style = \"text-align: left;\">Float64</th><th title = \"String\" style = \"text-align: left;\">String</th><th title = \"String\" style = \"text-align: left;\">String</th></tr></thead><tbody><tr><td class = \"rowNumber\" style = \"font-weight: bold; text-align: right;\">1</td><td style = \"text-align: right;\">41.9322</td><td style = \"text-align: right;\">-87.6586</td><td style = \"text-align: left;\">152.0</td><td style = \"text-align: left;\">Lincoln Ave &amp; Diversey Pkwy</td><td style = \"text-align: left;\">2020-04-26 18:12:03</td><td style = \"text-align: left;\">member</td><td style = \"text-align: left;\">A847FADBBC638E45</td><td style = \"text-align: left;\">docked_bike</td><td style = \"text-align: right;\">41.8964</td><td style = \"text-align: right;\">-87.661</td><td style = \"text-align: left;\">86</td><td style = \"text-align: left;\">Eckhart Park</td><td style = \"text-align: left;\">2020-04-26 17:45:14</td><td style = \"text-align: right;\">3.98135</td><td style = \"text-align: left;\">(41.8964, -87.661)</td><td style = \"text-align: left;\">(41.9322, -87.6586)</td></tr><tr><td class = \"rowNumber\" style = \"font-weight: bold; text-align: right;\">2</td><td style = \"text-align: right;\">41.9306</td><td style = \"text-align: right;\">-87.7238</td><td style = \"text-align: left;\">499.0</td><td style = \"text-align: left;\">Kosciuszko Park</td><td style = \"text-align: left;\">2020-04-17 17:17:03</td><td style = \"text-align: left;\">member</td><td style = \"text-align: left;\">5405B80E996FF60D</td><td style = \"text-align: left;\">docked_bike</td><td style = \"text-align: right;\">41.9244</td><td style = \"text-align: right;\">-87.7154</td><td style = \"text-align: left;\">503</td><td style = \"text-align: left;\">Drake Ave &amp; Fullerton Ave</td><td style = \"text-align: left;\">2020-04-17 17:08:54</td><td style = \"text-align: right;\">0.979629</td><td style = \"text-align: left;\">(41.9244, -87.7154)</td><td style = \"text-align: left;\">(41.9306, -87.7238)</td></tr><tr><td class = \"rowNumber\" style = \"font-weight: bold; text-align: right;\">3</td><td style = \"text-align: right;\">41.8679</td><td style = \"text-align: right;\">-87.623</td><td style = \"text-align: left;\">255.0</td><td style = \"text-align: left;\">Indiana Ave &amp; Roosevelt Rd</td><td style = \"text-align: left;\">2020-04-01 18:08:36</td><td style = \"text-align: left;\">member</td><td style = \"text-align: left;\">5DD24A79A4E006F4</td><td style = \"text-align: left;\">docked_bike</td><td style = \"text-align: right;\">41.8945</td><td style = \"text-align: right;\">-87.6179</td><td style = \"text-align: left;\">142</td><td style = \"text-align: left;\">McClurg Ct &amp; Erie St</td><td style = \"text-align: left;\">2020-04-01 17:54:13</td><td style = \"text-align: right;\">2.98466</td><td style = \"text-align: left;\">(41.8945, -87.6179)</td><td style = \"text-align: left;\">(41.8679, -87.623)</td></tr><tr><td class = \"rowNumber\" style = \"font-weight: bold; text-align: right;\">4</td><td style = \"text-align: right;\">41.8992</td><td style = \"text-align: right;\">-87.6722</td><td style = \"text-align: left;\">657.0</td><td style = \"text-align: left;\">Wood St &amp; Augusta Blvd</td><td style = \"text-align: left;\">2020-04-07 13:02:31</td><td style = \"text-align: left;\">member</td><td style = \"text-align: left;\">2A59BBDF5CDBA725</td><td style = \"text-align: left;\">docked_bike</td><td style = \"text-align: right;\">41.903</td><td style = \"text-align: right;\">-87.6975</td><td style = \"text-align: left;\">216</td><td style = \"text-align: left;\">California Ave &amp; Division St</td><td style = \"text-align: left;\">2020-04-07 12:50:19</td><td style = \"text-align: right;\">2.14137</td><td style = \"text-align: left;\">(41.903, -87.6975)</td><td style = \"text-align: left;\">(41.8992, -87.6722)</td></tr><tr><td class = \"rowNumber\" style = \"font-weight: bold; text-align: right;\">5</td><td style = \"text-align: right;\">41.9695</td><td style = \"text-align: right;\">-87.6547</td><td style = \"text-align: left;\">323.0</td><td style = \"text-align: left;\">Sheridan Rd &amp; Lawrence Ave</td><td style = \"text-align: left;\">2020-04-18 11:15:54</td><td style = \"text-align: left;\">casual</td><td style = \"text-align: left;\">27AD306C119C6158</td><td style = \"text-align: left;\">docked_bike</td><td style = \"text-align: right;\">41.8902</td><td style = \"text-align: right;\">-87.6262</td><td style = \"text-align: left;\">125</td><td style = \"text-align: left;\">Rush St &amp; Hubbard St</td><td style = \"text-align: left;\">2020-04-18 10:22:59</td><td style = \"text-align: right;\">9.11968</td><td style = \"text-align: left;\">(41.8902, -87.6262)</td><td style = \"text-align: left;\">(41.9695, -87.6547)</td></tr><tr><td class = \"rowNumber\" style = \"font-weight: bold; text-align: right;\">6</td><td style = \"text-align: right;\">41.8923</td><td style = \"text-align: right;\">-87.612</td><td style = \"text-align: left;\">35.0</td><td style = \"text-align: left;\">Streeter Dr &amp; Grand Ave</td><td style = \"text-align: left;\">2020-04-30 18:01:11</td><td style = \"text-align: left;\">member</td><td style = \"text-align: left;\">356216E875132F61</td><td style = \"text-align: left;\">docked_bike</td><td style = \"text-align: right;\">41.8969</td><td style = \"text-align: right;\">-87.6217</td><td style = \"text-align: left;\">173</td><td style = \"text-align: left;\">Mies van der Rohe Way &amp; Chicago Ave</td><td style = \"text-align: left;\">2020-04-30 17:55:47</td><td style = \"text-align: right;\">0.953433</td><td style = \"text-align: left;\">(41.8969, -87.6217)</td><td style = \"text-align: left;\">(41.8923, -87.612)</td></tr><tr><td class = \"rowNumber\" style = \"font-weight: bold; text-align: right;\">7</td><td style = \"text-align: right;\">41.8957</td><td style = \"text-align: right;\">-87.6201</td><td style = \"text-align: left;\">635.0</td><td style = \"text-align: left;\">Fairbanks St &amp; Superior St</td><td style = \"text-align: left;\">2020-04-02 14:52:32</td><td style = \"text-align: left;\">member</td><td style = \"text-align: left;\">A2759CB06A81F2BC</td><td style = \"text-align: left;\">docked_bike</td><td style = \"text-align: right;\">41.8923</td><td style = \"text-align: right;\">-87.612</td><td style = \"text-align: left;\">35</td><td style = \"text-align: left;\">Streeter Dr &amp; Grand Ave</td><td style = \"text-align: left;\">2020-04-02 14:47:19</td><td style = \"text-align: right;\">0.77102</td><td style = \"text-align: left;\">(41.8923, -87.612)</td><td style = \"text-align: left;\">(41.8957, -87.6201)</td></tr><tr><td class = \"rowNumber\" style = \"font-weight: bold; text-align: right;\">8</td><td style = \"text-align: right;\">41.8747</td><td style = \"text-align: right;\">-87.6864</td><td style = \"text-align: left;\">382.0</td><td style = \"text-align: left;\">Western Ave &amp; Congress Pkwy</td><td style = \"text-align: left;\">2020-04-07 13:38:09</td><td style = \"text-align: left;\">casual</td><td style = \"text-align: left;\">FC8BC2E2D54F35ED</td><td style = \"text-align: left;\">docked_bike</td><td style = \"text-align: right;\">41.8665</td><td style = \"text-align: right;\">-87.6847</td><td style = \"text-align: left;\">434</td><td style = \"text-align: left;\">Ogden Ave &amp; Roosevelt Rd</td><td style = \"text-align: left;\">2020-04-07 12:22:20</td><td style = \"text-align: right;\">0.92165</td><td style = \"text-align: left;\">(41.8665, -87.6847)</td><td style = \"text-align: left;\">(41.8747, -87.6864)</td></tr><tr><td class = \"rowNumber\" style = \"font-weight: bold; text-align: right;\">9</td><td style = \"text-align: right;\">41.9035</td><td style = \"text-align: right;\">-87.6434</td><td style = \"text-align: left;\">359.0</td><td style = \"text-align: left;\">Larrabee St &amp; Division St</td><td style = \"text-align: left;\">2020-04-15 10:35:55</td><td style = \"text-align: left;\">casual</td><td style = \"text-align: left;\">9EC5648678DE06E6</td><td style = \"text-align: left;\">docked_bike</td><td style = \"text-align: right;\">41.8949</td><td style = \"text-align: right;\">-87.6323</td><td style = \"text-align: left;\">627</td><td style = \"text-align: left;\">LaSalle Dr &amp; Huron St</td><td style = \"text-align: left;\">2020-04-15 10:30:11</td><td style = \"text-align: right;\">1.32697</td><td style = \"text-align: left;\">(41.8949, -87.6323)</td><td style = \"text-align: left;\">(41.9035, -87.6434)</td></tr><tr><td class = \"rowNumber\" style = \"font-weight: bold; text-align: right;\">10</td><td style = \"text-align: right;\">41.9097</td><td style = \"text-align: right;\">-87.7166</td><td style = \"text-align: left;\">508.0</td><td style = \"text-align: left;\">Central Park Ave &amp; North Ave</td><td style = \"text-align: left;\">2020-04-04 15:19:47</td><td style = \"text-align: left;\">member</td><td style = \"text-align: left;\">A8FFF89140C33017</td><td style = \"text-align: left;\">docked_bike</td><td style = \"text-align: right;\">41.8846</td><td style = \"text-align: right;\">-87.7063</td><td style = \"text-align: left;\">377</td><td style = \"text-align: left;\">Kedzie Ave &amp; Lake St</td><td style = \"text-align: left;\">2020-04-04 15:02:28</td><td style = \"text-align: right;\">2.91597</td><td style = \"text-align: left;\">(41.8846, -87.7063)</td><td style = \"text-align: left;\">(41.9097, -87.7166)</td></tr><tr><td class = \"rowNumber\" style = \"font-weight: bold; text-align: right;\">11</td><td style = \"text-align: right;\">41.8984</td><td style = \"text-align: right;\">-87.6866</td><td style = \"text-align: left;\">374.0</td><td style = \"text-align: left;\">Western Ave &amp; Walton St</td><td style = \"text-align: left;\">2020-04-04 15:46:55</td><td style = \"text-align: left;\">member</td><td style = \"text-align: left;\">788B1BB8A7491EBD</td><td style = \"text-align: left;\">docked_bike</td><td style = \"text-align: right;\">41.9097</td><td style = \"text-align: right;\">-87.7166</td><td style = \"text-align: left;\">508</td><td style = \"text-align: left;\">Central Park Ave &amp; North Ave</td><td style = \"text-align: left;\">2020-04-04 15:22:43</td><td style = \"text-align: right;\">2.78777</td><td style = \"text-align: left;\">(41.9097, -87.7166)</td><td style = \"text-align: left;\">(41.8984, -87.6866)</td></tr><tr><td class = \"rowNumber\" style = \"font-weight: bold; text-align: right;\">12</td><td style = \"text-align: right;\">41.8958</td><td style = \"text-align: right;\">-87.6772</td><td style = \"text-align: left;\">128.0</td><td style = \"text-align: left;\">Damen Ave &amp; Chicago Ave</td><td style = \"text-align: left;\">2020-04-25 15:48:45</td><td style = \"text-align: left;\">member</td><td style = \"text-align: left;\">C83C113858BA06DA</td><td style = \"text-align: left;\">docked_bike</td><td style = \"text-align: right;\">41.8984</td><td style = \"text-align: right;\">-87.6866</td><td style = \"text-align: left;\">374</td><td style = \"text-align: left;\">Western Ave &amp; Walton St</td><td style = \"text-align: left;\">2020-04-25 15:43:52</td><td style = \"text-align: right;\">0.831791</td><td style = \"text-align: left;\">(41.8984, -87.6866)</td><td style = \"text-align: left;\">(41.8958, -87.6772)</td></tr><tr><td class = \"rowNumber\" style = \"font-weight: bold; text-align: right;\">13</td><td style = \"text-align: right;\">41.9035</td><td style = \"text-align: right;\">-87.6677</td><td style = \"text-align: left;\">210.0</td><td style = \"text-align: left;\">Ashland Ave &amp; Division St</td><td style = \"text-align: left;\">2020-04-24 18:18:01</td><td style = \"text-align: left;\">member</td><td style = \"text-align: left;\">D2038D92195BDD67</td><td style = \"text-align: left;\">docked_bike</td><td style = \"text-align: right;\">41.8984</td><td style = \"text-align: right;\">-87.6866</td><td style = \"text-align: left;\">374</td><td style = \"text-align: left;\">Western Ave &amp; Walton St</td><td style = \"text-align: left;\">2020-04-24 18:09:43</td><td style = \"text-align: right;\">1.66747</td><td style = \"text-align: left;\">(41.8984, -87.6866)</td><td style = \"text-align: left;\">(41.9035, -87.6677)</td></tr><tr><td style = \"text-align: right;\">&vellip;</td><td style = \"text-align: right;\">&vellip;</td><td style = \"text-align: right;\">&vellip;</td><td style = \"text-align: right;\">&vellip;</td><td style = \"text-align: right;\">&vellip;</td><td style = \"text-align: right;\">&vellip;</td><td style = \"text-align: right;\">&vellip;</td><td style = \"text-align: right;\">&vellip;</td><td style = \"text-align: right;\">&vellip;</td><td style = \"text-align: right;\">&vellip;</td><td style = \"text-align: right;\">&vellip;</td><td style = \"text-align: right;\">&vellip;</td><td style = \"text-align: right;\">&vellip;</td><td style = \"text-align: right;\">&vellip;</td><td style = \"text-align: right;\">&vellip;</td><td style = \"text-align: right;\">&vellip;</td><td style = \"text-align: right;\">&vellip;</td></tr><tr><td class = \"rowNumber\" style = \"font-weight: bold; text-align: right;\">18953046</td><td style = \"text-align: right;\">41.96</td><td style = \"text-align: right;\">-87.64</td><td style = \"font-style: italic; text-align: left;\">missing</td><td style = \"font-style: italic; text-align: left;\">missing</td><td style = \"text-align: left;\">2021-05-23 13:30:11</td><td style = \"text-align: left;\">member</td><td style = \"text-align: left;\">3AB2AC8B145CE2D6</td><td style = \"text-align: left;\">electric_bike</td><td style = \"text-align: right;\">41.9615</td><td style = \"text-align: right;\">-87.6547</td><td style = \"text-align: left;\">TA1307000107</td><td style = \"text-align: left;\">Sheridan Rd &amp; Montrose Ave</td><td style = \"text-align: left;\">2021-05-23 13:00:04</td><td style = \"text-align: right;\">1.22999</td><td style = \"text-align: left;\">(41.96154633333333, -87.65469133333333)</td><td style = \"text-align: left;\">(41.96, -87.64)</td></tr><tr><td class = \"rowNumber\" style = \"font-weight: bold; text-align: right;\">18953047</td><td style = \"text-align: right;\">41.8999</td><td style = \"text-align: right;\">-87.6344</td><td style = \"text-align: left;\">TA1306000011</td><td style = \"text-align: left;\">Wells St &amp; Walton St</td><td style = \"text-align: left;\">2021-05-01 08:43:45</td><td style = \"text-align: left;\">member</td><td style = \"text-align: left;\">55E1EA9F658BBB4A</td><td style = \"text-align: left;\">classic_bike</td><td style = \"text-align: right;\">41.912</td><td style = \"text-align: right;\">-87.6319</td><td style = \"text-align: left;\">13128</td><td style = \"text-align: left;\">Clark St &amp; North Ave</td><td style = \"text-align: left;\">2021-05-01 08:38:01</td><td style = \"text-align: right;\">1.35358</td><td style = \"text-align: left;\">(41.911974, -87.631942)</td><td style = \"text-align: left;\">(41.89993001, -87.63443007)</td></tr><tr><td class = \"rowNumber\" style = \"font-weight: bold; text-align: right;\">18953048</td><td style = \"text-align: right;\">41.901</td><td style = \"text-align: right;\">-87.6238</td><td style = \"text-align: left;\">13042</td><td style = \"text-align: left;\">Michigan Ave &amp; Oak St</td><td style = \"text-align: left;\">2021-05-01 16:00:54</td><td style = \"text-align: left;\">member</td><td style = \"text-align: left;\">6AFB0C7D4D89F1B0</td><td style = \"text-align: left;\">classic_bike</td><td style = \"text-align: right;\">41.9617</td><td style = \"text-align: right;\">-87.6546</td><td style = \"text-align: left;\">TA1307000107</td><td style = \"text-align: left;\">Sheridan Rd &amp; Montrose Ave</td><td style = \"text-align: left;\">2021-05-01 15:28:11</td><td style = \"text-align: right;\">7.21266</td><td style = \"text-align: left;\">(41.96167, -87.65464)</td><td style = \"text-align: left;\">(41.90096039, -87.62377664)</td></tr><tr><td class = \"rowNumber\" style = \"font-weight: bold; text-align: right;\">18953049</td><td style = \"text-align: right;\">41.951</td><td style = \"text-align: right;\">-87.659</td><td style = \"text-align: left;\">TA1307000127</td><td style = \"text-align: left;\">Clark St &amp; Grace St</td><td style = \"text-align: left;\">2021-05-12 18:44:13</td><td style = \"text-align: left;\">member</td><td style = \"text-align: left;\">187B36C368311E5B</td><td style = \"text-align: left;\">electric_bike</td><td style = \"text-align: right;\">41.9615</td><td style = \"text-align: right;\">-87.6546</td><td style = \"text-align: left;\">TA1307000107</td><td style = \"text-align: left;\">Sheridan Rd &amp; Montrose Ave</td><td style = \"text-align: left;\">2021-05-12 18:37:36</td><td style = \"text-align: right;\">1.22703</td><td style = \"text-align: left;\">(41.96152133333333, -87.65459583333333)</td><td style = \"text-align: left;\">(41.950979833333335, -87.659022)</td></tr><tr><td class = \"rowNumber\" style = \"font-weight: bold; text-align: right;\">18953050</td><td style = \"text-align: right;\">41.8892</td><td style = \"text-align: right;\">-87.6385</td><td style = \"text-align: left;\">KA1503000043</td><td style = \"text-align: left;\">Kingsbury St &amp; Kinzie St</td><td style = \"text-align: left;\">2021-05-22 18:30:00</td><td style = \"text-align: left;\">casual</td><td style = \"text-align: left;\">43C517C9DD4CF4B2</td><td style = \"text-align: left;\">docked_bike</td><td style = \"text-align: right;\">41.912</td><td style = \"text-align: right;\">-87.6319</td><td style = \"text-align: left;\">13128</td><td style = \"text-align: left;\">Clark St &amp; North Ave</td><td style = \"text-align: left;\">2021-05-22 17:45:09</td><td style = \"text-align: right;\">2.59001</td><td style = \"text-align: left;\">(41.911974, -87.631942)</td><td style = \"text-align: left;\">(41.889177, -87.638506)</td></tr><tr><td class = \"rowNumber\" style = \"font-weight: bold; text-align: right;\">18953051</td><td style = \"text-align: right;\">41.95</td><td style = \"text-align: right;\">-87.65</td><td style = \"font-style: italic; text-align: left;\">missing</td><td style = \"font-style: italic; text-align: left;\">missing</td><td style = \"text-align: left;\">2021-05-11 22:51:22</td><td style = \"text-align: left;\">member</td><td style = \"text-align: left;\">A87018C1286BE8FC</td><td style = \"text-align: left;\">electric_bike</td><td style = \"text-align: right;\">41.9617</td><td style = \"text-align: right;\">-87.6547</td><td style = \"text-align: left;\">TA1307000107</td><td style = \"text-align: left;\">Sheridan Rd &amp; Montrose Ave</td><td style = \"text-align: left;\">2021-05-11 22:46:53</td><td style = \"text-align: right;\">1.35233</td><td style = \"text-align: left;\">(41.96165966666667, -87.65469633333333)</td><td style = \"text-align: left;\">(41.95, -87.65)</td></tr><tr><td class = \"rowNumber\" style = \"font-weight: bold; text-align: right;\">18953052</td><td style = \"text-align: right;\">41.8</td><td style = \"text-align: right;\">-87.6</td><td style = \"font-style: italic; text-align: left;\">missing</td><td style = \"font-style: italic; text-align: left;\">missing</td><td style = \"text-align: left;\">2021-05-02 17:52:19</td><td style = \"text-align: left;\">member</td><td style = \"text-align: left;\">D0B8E59E2B3C406D</td><td style = \"text-align: left;\">electric_bike</td><td style = \"text-align: right;\">41.8026</td><td style = \"text-align: right;\">-87.5903</td><td style = \"text-align: left;\">13398</td><td style = \"text-align: left;\">Blackstone Ave &amp; Hyde Park Blvd</td><td style = \"text-align: left;\">2021-05-02 17:48:17</td><td style = \"text-align: right;\">0.855331</td><td style = \"text-align: left;\">(41.802586, -87.59030583333333)</td><td style = \"text-align: left;\">(41.8, -87.6)</td></tr><tr><td class = \"rowNumber\" style = \"font-weight: bold; text-align: right;\">18953053</td><td style = \"text-align: right;\">41.8</td><td style = \"text-align: right;\">-87.6</td><td style = \"font-style: italic; text-align: left;\">missing</td><td style = \"font-style: italic; text-align: left;\">missing</td><td style = \"text-align: left;\">2021-05-20 16:35:39</td><td style = \"text-align: left;\">member</td><td style = \"text-align: left;\">EF56D7D1D612AC11</td><td style = \"text-align: left;\">electric_bike</td><td style = \"text-align: right;\">41.8026</td><td style = \"text-align: right;\">-87.5902</td><td style = \"text-align: left;\">13398</td><td style = \"text-align: left;\">Blackstone Ave &amp; Hyde Park Blvd</td><td style = \"text-align: left;\">2021-05-20 16:32:14</td><td style = \"text-align: right;\">0.86111</td><td style = \"text-align: left;\">(41.802581333333336, -87.59022983333334)</td><td style = \"text-align: left;\">(41.8, -87.6)</td></tr><tr><td class = \"rowNumber\" style = \"font-weight: bold; text-align: right;\">18953054</td><td style = \"text-align: right;\">41.901</td><td style = \"text-align: right;\">-87.6238</td><td style = \"text-align: left;\">13042</td><td style = \"text-align: left;\">Michigan Ave &amp; Oak St</td><td style = \"text-align: left;\">2021-05-29 17:22:37</td><td style = \"text-align: left;\">casual</td><td style = \"text-align: left;\">745191CB9F21DE3C</td><td style = \"text-align: left;\">classic_bike</td><td style = \"text-align: right;\">41.9617</td><td style = \"text-align: right;\">-87.6546</td><td style = \"text-align: left;\">TA1307000107</td><td style = \"text-align: left;\">Sheridan Rd &amp; Montrose Ave</td><td style = \"text-align: left;\">2021-05-29 16:40:37</td><td style = \"text-align: right;\">7.21266</td><td style = \"text-align: left;\">(41.96167, -87.65464)</td><td style = \"text-align: left;\">(41.90096039, -87.62377664)</td></tr><tr><td class = \"rowNumber\" style = \"font-weight: bold; text-align: right;\">18953055</td><td style = \"text-align: right;\">41.95</td><td style = \"text-align: right;\">-87.65</td><td style = \"font-style: italic; text-align: left;\">missing</td><td style = \"font-style: italic; text-align: left;\">missing</td><td style = \"text-align: left;\">2021-05-31 14:31:38</td><td style = \"text-align: left;\">member</td><td style = \"text-align: left;\">428575BAA5356BFF</td><td style = \"text-align: left;\">electric_bike</td><td style = \"text-align: right;\">41.9615</td><td style = \"text-align: right;\">-87.6547</td><td style = \"text-align: left;\">TA1307000107</td><td style = \"text-align: left;\">Sheridan Rd &amp; Montrose Ave</td><td style = \"text-align: left;\">2021-05-31 14:24:54</td><td style = \"text-align: right;\">1.33686</td><td style = \"text-align: left;\">(41.9615245, -87.6546505)</td><td style = \"text-align: left;\">(41.95, -87.65)</td></tr><tr><td class = \"rowNumber\" style = \"font-weight: bold; text-align: right;\">18953056</td><td style = \"text-align: right;\">41.98</td><td style = \"text-align: right;\">-87.66</td><td style = \"font-style: italic; text-align: left;\">missing</td><td style = \"font-style: italic; text-align: left;\">missing</td><td style = \"text-align: left;\">2021-05-25 16:07:37</td><td style = \"text-align: left;\">member</td><td style = \"text-align: left;\">FC8A4A7AB7249662</td><td style = \"text-align: left;\">electric_bike</td><td style = \"text-align: right;\">41.9617</td><td style = \"text-align: right;\">-87.6547</td><td style = \"text-align: left;\">TA1307000107</td><td style = \"text-align: left;\">Sheridan Rd &amp; Montrose Ave</td><td style = \"text-align: left;\">2021-05-25 16:01:33</td><td style = \"text-align: right;\">2.08419</td><td style = \"text-align: left;\">(41.961654, -87.654721)</td><td style = \"text-align: left;\">(41.98, -87.66)</td></tr><tr><td class = \"rowNumber\" style = \"font-weight: bold; text-align: right;\">18953057</td><td style = \"text-align: right;\">41.9508</td><td style = \"text-align: right;\">-87.6592</td><td style = \"text-align: left;\">TA1307000127</td><td style = \"text-align: left;\">Clark St &amp; Grace St</td><td style = \"text-align: left;\">2021-05-12 12:30:27</td><td style = \"text-align: left;\">casual</td><td style = \"text-align: left;\">E873B8AA3EE84678</td><td style = \"text-align: left;\">docked_bike</td><td style = \"text-align: right;\">41.9617</td><td style = \"text-align: right;\">-87.6546</td><td style = \"text-align: left;\">TA1307000107</td><td style = \"text-align: left;\">Sheridan Rd &amp; Montrose Ave</td><td style = \"text-align: left;\">2021-05-12 12:22:14</td><td style = \"text-align: right;\">1.26659</td><td style = \"text-align: left;\">(41.96167, -87.65464)</td><td style = \"text-align: left;\">(41.95078, -87.659172)</td></tr></tbody></table></div>"
      ],
      "text/latex": [
       "\\begin{tabular}{r|cccccc}\n",
       "\t& end\\_lat & end\\_lng & end\\_station\\_id & end\\_station\\_name & ended\\_at & \\\\\n",
       "\t\\hline\n",
       "\t& Float64 & Float64 & String? & String? & String31 & \\\\\n",
       "\t\\hline\n",
       "\t1 & 41.9322 & -87.6586 & 152.0 & Lincoln Ave \\& Diversey Pkwy & 2020-04-26 18:12:03 & $\\dots$ \\\\\n",
       "\t2 & 41.9306 & -87.7238 & 499.0 & Kosciuszko Park & 2020-04-17 17:17:03 & $\\dots$ \\\\\n",
       "\t3 & 41.8679 & -87.623 & 255.0 & Indiana Ave \\& Roosevelt Rd & 2020-04-01 18:08:36 & $\\dots$ \\\\\n",
       "\t4 & 41.8992 & -87.6722 & 657.0 & Wood St \\& Augusta Blvd & 2020-04-07 13:02:31 & $\\dots$ \\\\\n",
       "\t5 & 41.9695 & -87.6547 & 323.0 & Sheridan Rd \\& Lawrence Ave & 2020-04-18 11:15:54 & $\\dots$ \\\\\n",
       "\t6 & 41.8923 & -87.612 & 35.0 & Streeter Dr \\& Grand Ave & 2020-04-30 18:01:11 & $\\dots$ \\\\\n",
       "\t7 & 41.8957 & -87.6201 & 635.0 & Fairbanks St \\& Superior St & 2020-04-02 14:52:32 & $\\dots$ \\\\\n",
       "\t8 & 41.8747 & -87.6864 & 382.0 & Western Ave \\& Congress Pkwy & 2020-04-07 13:38:09 & $\\dots$ \\\\\n",
       "\t9 & 41.9035 & -87.6434 & 359.0 & Larrabee St \\& Division St & 2020-04-15 10:35:55 & $\\dots$ \\\\\n",
       "\t10 & 41.9097 & -87.7166 & 508.0 & Central Park Ave \\& North Ave & 2020-04-04 15:19:47 & $\\dots$ \\\\\n",
       "\t11 & 41.8984 & -87.6866 & 374.0 & Western Ave \\& Walton St & 2020-04-04 15:46:55 & $\\dots$ \\\\\n",
       "\t12 & 41.8958 & -87.6772 & 128.0 & Damen Ave \\& Chicago Ave & 2020-04-25 15:48:45 & $\\dots$ \\\\\n",
       "\t13 & 41.9035 & -87.6677 & 210.0 & Ashland Ave \\& Division St & 2020-04-24 18:18:01 & $\\dots$ \\\\\n",
       "\t14 & 41.8958 & -87.6772 & 128.0 & Damen Ave \\& Chicago Ave & 2020-04-11 17:19:53 & $\\dots$ \\\\\n",
       "\t15 & 41.8728 & -87.624 & 623.0 & Michigan Ave \\& 8th St & 2020-04-20 17:42:51 & $\\dots$ \\\\\n",
       "\t16 & 41.9105 & -87.6531 & 20.0 & Sheffield Ave \\& Kingsbury St & 2020-04-18 16:24:57 & $\\dots$ \\\\\n",
       "\t17 & 41.9157 & -87.6346 & 141.0 & Clark St \\& Lincoln Ave & 2020-04-19 14:01:39 & $\\dots$ \\\\\n",
       "\t18 & 41.8288 & -87.6806 & 9.0 & Leavitt St \\& Archer Ave & 2020-04-18 03:07:22 & $\\dots$ \\\\\n",
       "\t19 & 41.9288 & -87.6639 & 190.0 & Southport Ave \\& Wrightwood Ave & 2020-04-04 11:08:03 & $\\dots$ \\\\\n",
       "\t20 & 41.8841 & -87.6543 & 621.0 & Aberdeen St \\& Randolph St & 2020-04-25 12:38:24 & $\\dots$ \\\\\n",
       "\t21 & 41.7806 & -87.5848 & 653.0 & Cornell Dr \\& Hayes Dr & 2020-04-05 16:15:51 & $\\dots$ \\\\\n",
       "\t22 & 41.9482 & -87.6639 & 227.0 & Southport Ave \\& Waveland Ave & 2020-04-10 16:32:07 & $\\dots$ \\\\\n",
       "\t23 & 41.8748 & -87.6498 & 109.0 & 900 W Harrison St & 2020-04-18 12:12:49 & $\\dots$ \\\\\n",
       "\t24 & 41.9482 & -87.6639 & 227.0 & Southport Ave \\& Waveland Ave & 2020-04-05 14:44:30 & $\\dots$ \\\\\n",
       "\t$\\dots$ & $\\dots$ & $\\dots$ & $\\dots$ & $\\dots$ & $\\dots$ &  \\\\\n",
       "\\end{tabular}\n"
      ],
      "text/plain": [
       "\u001b[1m18953057×16 DataFrame\u001b[0m\n",
       "\u001b[1m      Row \u001b[0m│\u001b[1m end_lat \u001b[0m\u001b[1m end_lng  \u001b[0m\u001b[1m end_station_id \u001b[0m\u001b[1m end_station_name             \u001b[0m\u001b[1m e\u001b[0m ⋯\n",
       "          │\u001b[90m Float64 \u001b[0m\u001b[90m Float64  \u001b[0m\u001b[90m String?        \u001b[0m\u001b[90m String?                      \u001b[0m\u001b[90m S\u001b[0m ⋯\n",
       "──────────┼─────────────────────────────────────────────────────────────────────\n",
       "        1 │ 41.9322  -87.6586  152.0           Lincoln Ave & Diversey Pkwy   2 ⋯\n",
       "        2 │ 41.9306  -87.7238  499.0           Kosciuszko Park               2\n",
       "        3 │ 41.8679  -87.623   255.0           Indiana Ave & Roosevelt Rd    2\n",
       "        4 │ 41.8992  -87.6722  657.0           Wood St & Augusta Blvd        2\n",
       "        5 │ 41.9695  -87.6547  323.0           Sheridan Rd & Lawrence Ave    2 ⋯\n",
       "        6 │ 41.8923  -87.612   35.0            Streeter Dr & Grand Ave       2\n",
       "        7 │ 41.8957  -87.6201  635.0           Fairbanks St & Superior St    2\n",
       "        8 │ 41.8747  -87.6864  382.0           Western Ave & Congress Pkwy   2\n",
       "    ⋮     │    ⋮        ⋮            ⋮                      ⋮                  ⋱\n",
       " 18953051 │ 41.95    -87.65   \u001b[90m missing        \u001b[0m\u001b[90m missing                      \u001b[0m 2 ⋯\n",
       " 18953052 │ 41.8     -87.6    \u001b[90m missing        \u001b[0m\u001b[90m missing                      \u001b[0m 2\n",
       " 18953053 │ 41.8     -87.6    \u001b[90m missing        \u001b[0m\u001b[90m missing                      \u001b[0m 2\n",
       " 18953054 │ 41.901   -87.6238  13042           Michigan Ave & Oak St         2\n",
       " 18953055 │ 41.95    -87.65   \u001b[90m missing        \u001b[0m\u001b[90m missing                      \u001b[0m 2 ⋯\n",
       " 18953056 │ 41.98    -87.66   \u001b[90m missing        \u001b[0m\u001b[90m missing                      \u001b[0m 2\n",
       " 18953057 │ 41.9508  -87.6592  TA1307000127    Clark St & Grace St           2\n",
       "\u001b[36m                                            12 columns and 18953042 rows omitted\u001b[0m"
      ]
     },
     "metadata": {},
     "output_type": "display_data"
    }
   ],
   "source": [
    "data = CSV.read(\"../data/wholetime.csv\", DataFrame)"
   ]
  },
  {
   "cell_type": "code",
   "execution_count": 6,
   "metadata": {},
   "outputs": [],
   "source": [
    "using Dates"
   ]
  },
  {
   "cell_type": "code",
   "execution_count": 16,
   "metadata": {},
   "outputs": [
    {
     "data": {
      "text/plain": [
       "18953057-element Vector{DateTime}:\n",
       " 2020-04-26T17:45:14\n",
       " 2020-04-17T17:08:54\n",
       " 2020-04-01T17:54:13\n",
       " 2020-04-07T12:50:19\n",
       " 2020-04-18T10:22:59\n",
       " 2020-04-30T17:55:47\n",
       " 2020-04-02T14:47:19\n",
       " 2020-04-07T12:22:20\n",
       " 2020-04-15T10:30:11\n",
       " 2020-04-04T15:02:28\n",
       " ⋮\n",
       " 2021-05-12T18:37:36\n",
       " 2021-05-22T17:45:09\n",
       " 2021-05-11T22:46:53\n",
       " 2021-05-02T17:48:17\n",
       " 2021-05-20T16:32:14\n",
       " 2021-05-29T16:40:37\n",
       " 2021-05-31T14:24:54\n",
       " 2021-05-25T16:01:33\n",
       " 2021-05-12T12:22:14"
      ]
     },
     "metadata": {},
     "output_type": "display_data"
    }
   ],
   "source": [
    "data.ended_at = DateTime.(data.ended_at, DateFormat(\"yyyy-mm-dd HH:MM:SS\"))\n",
    "data.started_at = DateTime.(data.started_at, DateFormat(\"yyyy-mm-dd HH:MM:SS\"))"
   ]
  },
  {
   "cell_type": "code",
   "execution_count": 7,
   "metadata": {},
   "outputs": [],
   "source": [
    "using LightGraphs\n",
    "using GraphPlot"
   ]
  },
  {
   "cell_type": "code",
   "execution_count": 18,
   "metadata": {},
   "outputs": [
    {
     "name": "stderr",
     "output_type": "stream",
     "text": [
      "\u001b[32m\u001b[1m   Resolving\u001b[22m\u001b[39m package versions...\n"
     ]
    },
    {
     "name": "stderr",
     "output_type": "stream",
     "text": [
      "\u001b[32m\u001b[1m   Installed\u001b[22m\u001b[39m IterTools ─ v1.8.0\n",
      "\u001b[32m\u001b[1m   Installed\u001b[22m\u001b[39m Compose ─── v0.9.5\n"
     ]
    },
    {
     "name": "stderr",
     "output_type": "stream",
     "text": [
      "\u001b[32m\u001b[1m   Installed\u001b[22m\u001b[39m GraphPlot ─ v0.5.2\n"
     ]
    },
    {
     "name": "stderr",
     "output_type": "stream",
     "text": [
      "\u001b[32m\u001b[1m    Updating\u001b[22m\u001b[39m `~/.julia/environments/v1.9/Project.toml`\n",
      "  \u001b[90m[a2cc645c] \u001b[39m\u001b[92m+ GraphPlot v0.5.2\u001b[39m\n",
      "\u001b[32m\u001b[1m    Updating\u001b[22m\u001b[39m `~/.julia/environments/v1.9/Manifest.toml`\n",
      " "
     ]
    },
    {
     "name": "stderr",
     "output_type": "stream",
     "text": [
      " \u001b[90m[a81c6b42] \u001b[39m\u001b[92m+ Compose v0.9.5\u001b[39m\n",
      "  \u001b[90m[a2cc645c] \u001b[39m\u001b[92m+ GraphPlot v0.5.2\u001b[39m\n",
      "  \u001b[90m[c8e1da08] \u001b[39m\u001b[92m+ IterTools v1.8.0\u001b[39m\n"
     ]
    },
    {
     "name": "stderr",
     "output_type": "stream",
     "text": [
      "\u001b[32m\u001b[1mPrecompiling\u001b[22m\u001b[39m "
     ]
    },
    {
     "name": "stderr",
     "output_type": "stream",
     "text": [
      "project...\n"
     ]
    },
    {
     "name": "stderr",
     "output_type": "stream",
     "text": [
      "\u001b[32m  ✓ \u001b[39m\u001b[90mIterTools\u001b[39m\n"
     ]
    },
    {
     "name": "stderr",
     "output_type": "stream",
     "text": [
      "\u001b[32m  ✓ \u001b[39m\u001b[90mCompose\u001b[39m\n"
     ]
    },
    {
     "name": "stderr",
     "output_type": "stream",
     "text": [
      "\u001b[32m  ✓ \u001b[39mGraphPlot\n",
      "  3 dependencies successfully precompiled in 5 seconds. 317 already precompiled.\n",
      "\u001b[32m\u001b[1m   Resolving\u001b[22m\u001b[39m package versions...\n"
     ]
    },
    {
     "name": "stderr",
     "output_type": "stream",
     "text": [
      "\u001b[32m\u001b[1m   Installed\u001b[22m\u001b[39m ArnoldiMethod ─ v0.1.0\n",
      "\u001b[32m\u001b[1m   Installed\u001b[22m\u001b[39m LightGraphs ─── v1.3.5\n"
     ]
    },
    {
     "name": "stderr",
     "output_type": "stream",
     "text": [
      "\u001b[32m\u001b[1m    Updating\u001b[22m\u001b[39m `~/.julia/environments/v1.9/Project.toml`\n",
      "  \u001b[90m[093fc24a] \u001b[39m\u001b[92m+ LightGraphs v1.3.5\u001b[39m\n",
      "\u001b[32m\u001b[1m    Updating\u001b[22m\u001b[39m `~/.julia/environments/v1.9/Manifest.toml`\n",
      "\u001b[33m⌅\u001b[39m"
     ]
    },
    {
     "name": "stderr",
     "output_type": "stream",
     "text": [
      " \u001b[90m[ec485272] \u001b[39m\u001b[95m↓ ArnoldiMethod v0.2.0 ⇒ v0.1.0\u001b[39m\n",
      "  \u001b[90m[093fc24a] \u001b[39m\u001b[92m+ LightGraphs v1.3.5\u001b[39m\n",
      "\u001b[36m\u001b[1m        Info\u001b[22m\u001b[39m Packages marked with \u001b[33m⌅\u001b[39m have new versions available but compatibility constraints restrict them from upgrading. To see why use `status --outdated -m`\n"
     ]
    },
    {
     "name": "stderr",
     "output_type": "stream",
     "text": [
      "\u001b[32m\u001b[1mPrecompiling\u001b[22m\u001b[39m "
     ]
    },
    {
     "name": "stderr",
     "output_type": "stream",
     "text": [
      "project...\n"
     ]
    },
    {
     "name": "stderr",
     "output_type": "stream",
     "text": [
      "\u001b[33m  ✓ \u001b[39m\u001b[90mArnoldiMethod\u001b[39m\n"
     ]
    },
    {
     "name": "stderr",
     "output_type": "stream",
     "text": [
      "\u001b[32m  ✓ \u001b[39mLightGraphs\n"
     ]
    },
    {
     "name": "stderr",
     "output_type": "stream",
     "text": [
      "\u001b[33m  ✓ \u001b[39m\u001b[90mGraphs\u001b[39m\n"
     ]
    },
    {
     "name": "stderr",
     "output_type": "stream",
     "text": [
      "\u001b[33m  ✓ \u001b[39m\u001b[90mVertexSafeGraphs\u001b[39m\n"
     ]
    },
    {
     "name": "stderr",
     "output_type": "stream",
     "text": [
      "\u001b[32m  ✓ \u001b[39mGraphPlot\n"
     ]
    },
    {
     "name": "stderr",
     "output_type": "stream",
     "text": [
      "\u001b[33m  ✓ \u001b[39m\u001b[90mJumpProcesses\u001b[39m\n"
     ]
    },
    {
     "name": "stderr",
     "output_type": "stream",
     "text": [
      "\u001b[33m  ✓ \u001b[39m\u001b[90mSparseDiffTools\u001b[39m\n"
     ]
    },
    {
     "name": "stderr",
     "output_type": "stream",
     "text": [
      "\u001b[33m  ✓ \u001b[39m\u001b[90mJumpProcesses → JumpProcessFastBroadcastExt\u001b[39m\n"
     ]
    },
    {
     "name": "stderr",
     "output_type": "stream",
     "text": [
      "\u001b[33m  ✓ \u001b[39m\u001b[90mNonlinearSolve\u001b[39m\n"
     ]
    },
    {
     "name": "stderr",
     "output_type": "stream",
     "text": [
      "\u001b[33m  ✓ \u001b[39m\u001b[90mNonlinearSolve → NonlinearSolveBandedMatricesExt\u001b[39m\n"
     ]
    },
    {
     "name": "stderr",
     "output_type": "stream",
     "text": [
      "\u001b[33m  ✓ \u001b[39m\u001b[90mBoundaryValueDiffEq\u001b[39m\n"
     ]
    },
    {
     "name": "stderr",
     "output_type": "stream",
     "text": [
      "\u001b[33m  ✓ \u001b[39m\u001b[90mOrdinaryDiffEq\u001b[39m\n"
     ]
    },
    {
     "name": "stderr",
     "output_type": "stream",
     "text": [
      "\u001b[33m  ✓ \u001b[39m\u001b[90mDelayDiffEq\u001b[39m\n"
     ]
    },
    {
     "name": "stderr",
     "output_type": "stream",
     "text": [
      "\u001b[33m  ✓ \u001b[39m\u001b[90mStochasticDiffEq\u001b[39m\n"
     ]
    },
    {
     "name": "stderr",
     "output_type": "stream",
     "text": [
      "\u001b[33m  ✓ \u001b[39m\u001b[90mBoundaryValueDiffEq → BoundaryValueDiffEqOrdinaryDiffEqExt\u001b[39m\n"
     ]
    },
    {
     "name": "stderr",
     "output_type": "stream",
     "text": [
      "\u001b[33m  ✓ \u001b[39mDifferentialEquations\n",
      "  16 dependencies successfully precompiled in 133 seconds. 305 already precompiled.\n",
      "  \u001b[33m14\u001b[39m dependencies precompiled but different versions are currently loaded. Restart julia to access the new versions\n"
     ]
    }
   ],
   "source": [
    "#import Pkg; Pkg.add(\"GraphPlot\")\n",
    "#import Pkg; Pkg.add(\"LightGraphs\")"
   ]
  },
  {
   "cell_type": "code",
   "execution_count": 9,
   "metadata": {},
   "outputs": [
    {
     "ename": "MethodError",
     "evalue": "MethodError: no method matching spring_layout(::SimpleGraph{Int64})\n\nClosest candidates are:\n  spring_layout(!Matched::Graphs.AbstractGraph)\n   @ GraphPlot ~/.julia/packages/GraphPlot/HXIna/src/layout.jl:104\n  spring_layout(!Matched::Graphs.AbstractGraph, !Matched::Integer, !Matched::Any...)\n   @ GraphPlot ~/.julia/packages/GraphPlot/HXIna/src/layout.jl:177\n  spring_layout(!Matched::Graphs.AbstractGraph, !Matched::Any)\n   @ GraphPlot ~/.julia/packages/GraphPlot/HXIna/src/layout.jl:104\n  ...\n",
     "output_type": "error",
     "traceback": [
      "MethodError: no method matching spring_layout(::SimpleGraph{Int64})\n",
      "\n",
      "Closest candidates are:\n",
      "  spring_layout(!Matched::Graphs.AbstractGraph)\n",
      "   @ GraphPlot ~/.julia/packages/GraphPlot/HXIna/src/layout.jl:104\n",
      "  spring_layout(!Matched::Graphs.AbstractGraph, !Matched::Integer, !Matched::Any...)\n",
      "   @ GraphPlot ~/.julia/packages/GraphPlot/HXIna/src/layout.jl:177\n",
      "  spring_layout(!Matched::Graphs.AbstractGraph, !Matched::Any)\n",
      "   @ GraphPlot ~/.julia/packages/GraphPlot/HXIna/src/layout.jl:104\n",
      "  ...\n",
      "\n",
      "\n",
      "Stacktrace:\n",
      " [1] gplot(g::SimpleGraph{Int64}; layout::typeof(spring_layout), keyargs::Base.Pairs{Symbol, Union{}, Tuple{}, NamedTuple{(), Tuple{}}})\n",
      "   @ GraphPlot ~/.julia/packages/GraphPlot/HXIna/src/plot.jl:229\n",
      " [2] gplot(g::SimpleGraph{Int64})\n",
      "   @ GraphPlot ~/.julia/packages/GraphPlot/HXIna/src/plot.jl:228\n",
      " [3] top-level scope\n",
      "   @ ~/dev/mobility_code/julia/nov_9.ipynb:5"
     ]
    }
   ],
   "source": [
    "g = SimpleGraph(10)\n",
    "add_edge!(g, 1, 2)\n",
    "add_edge!(g, 1, 3)\n",
    "\n",
    "gplot(g)"
   ]
  },
  {
   "cell_type": "code",
   "execution_count": null,
   "metadata": {},
   "outputs": [],
   "source": []
  }
 ],
 "metadata": {
  "kernelspec": {
   "display_name": "Julia 1.9.3",
   "language": "julia",
   "name": "julia-1.9"
  },
  "language_info": {
   "file_extension": ".jl",
   "mimetype": "application/julia",
   "name": "julia",
   "version": "1.9.3"
  }
 },
 "nbformat": 4,
 "nbformat_minor": 2
}
