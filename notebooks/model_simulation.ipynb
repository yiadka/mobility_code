{
 "cells": [
  {
   "cell_type": "code",
   "execution_count": 6,
   "metadata": {},
   "outputs": [],
   "source": [
    "import pandas as pd\n",
    "import numpy as np\n",
    "import matplotlib.pyplot as plt\n",
    "import seaborn as sns\n",
    "import os\n",
    "import sys\n",
    "from datetime import datetime, timedelta\n",
    "from scipy.optimize import curve_fit"
   ]
  },
  {
   "cell_type": "code",
   "execution_count": 2,
   "metadata": {},
   "outputs": [
    {
     "name": "stderr",
     "output_type": "stream",
     "text": [
      "/Users/yiadka/dev/mobility_code/venv/lib/python3.9/site-packages/IPython/core/pylabtools.py:152: UserWarning: Glyph 36600 (\\N{CJK UNIFIED IDEOGRAPH-8EF8}) missing from current font.\n",
      "  fig.canvas.print_figure(bytes_io, **kw)\n",
      "/Users/yiadka/dev/mobility_code/venv/lib/python3.9/site-packages/IPython/core/pylabtools.py:152: UserWarning: Glyph 29983 (\\N{CJK UNIFIED IDEOGRAPH-751F}) missing from current font.\n",
      "  fig.canvas.print_figure(bytes_io, **kw)\n",
      "/Users/yiadka/dev/mobility_code/venv/lib/python3.9/site-packages/IPython/core/pylabtools.py:152: UserWarning: Glyph 12487 (\\N{KATAKANA LETTER DE}) missing from current font.\n",
      "  fig.canvas.print_figure(bytes_io, **kw)\n",
      "/Users/yiadka/dev/mobility_code/venv/lib/python3.9/site-packages/IPython/core/pylabtools.py:152: UserWarning: Glyph 12540 (\\N{KATAKANA-HIRAGANA PROLONGED SOUND MARK}) missing from current font.\n",
      "  fig.canvas.print_figure(bytes_io, **kw)\n",
      "/Users/yiadka/dev/mobility_code/venv/lib/python3.9/site-packages/IPython/core/pylabtools.py:152: UserWarning: Glyph 12479 (\\N{KATAKANA LETTER TA}) missing from current font.\n",
      "  fig.canvas.print_figure(bytes_io, **kw)\n",
      "/Users/yiadka/dev/mobility_code/venv/lib/python3.9/site-packages/IPython/core/pylabtools.py:152: UserWarning: Glyph 12501 (\\N{KATAKANA LETTER HU}) missing from current font.\n",
      "  fig.canvas.print_figure(bytes_io, **kw)\n",
      "/Users/yiadka/dev/mobility_code/venv/lib/python3.9/site-packages/IPython/core/pylabtools.py:152: UserWarning: Glyph 12451 (\\N{KATAKANA LETTER SMALL I}) missing from current font.\n",
      "  fig.canvas.print_figure(bytes_io, **kw)\n",
      "/Users/yiadka/dev/mobility_code/venv/lib/python3.9/site-packages/IPython/core/pylabtools.py:152: UserWarning: Glyph 12483 (\\N{KATAKANA LETTER SMALL TU}) missing from current font.\n",
      "  fig.canvas.print_figure(bytes_io, **kw)\n",
      "/Users/yiadka/dev/mobility_code/venv/lib/python3.9/site-packages/IPython/core/pylabtools.py:152: UserWarning: Glyph 12488 (\\N{KATAKANA LETTER TO}) missing from current font.\n",
      "  fig.canvas.print_figure(bytes_io, **kw)\n",
      "/Users/yiadka/dev/mobility_code/venv/lib/python3.9/site-packages/IPython/core/pylabtools.py:152: UserWarning: Glyph 12375 (\\N{HIRAGANA LETTER SI}) missing from current font.\n",
      "  fig.canvas.print_figure(bytes_io, **kw)\n",
      "/Users/yiadka/dev/mobility_code/venv/lib/python3.9/site-packages/IPython/core/pylabtools.py:152: UserWarning: Glyph 12383 (\\N{HIRAGANA LETTER TA}) missing from current font.\n",
      "  fig.canvas.print_figure(bytes_io, **kw)\n",
      "/Users/yiadka/dev/mobility_code/venv/lib/python3.9/site-packages/IPython/core/pylabtools.py:152: UserWarning: Glyph 12514 (\\N{KATAKANA LETTER MO}) missing from current font.\n",
      "  fig.canvas.print_figure(bytes_io, **kw)\n",
      "/Users/yiadka/dev/mobility_code/venv/lib/python3.9/site-packages/IPython/core/pylabtools.py:152: UserWarning: Glyph 12523 (\\N{KATAKANA LETTER RU}) missing from current font.\n",
      "  fig.canvas.print_figure(bytes_io, **kw)\n"
     ]
    },
    {
     "data": {
      "image/png": "[encoded data removed]",
      "text/plain": [
       "<Figure size 640x480 with 1 Axes>"
      ]
     },
     "metadata": {},
     "output_type": "display_data"
    },
    {
     "name": "stdout",
     "output_type": "stream",
     "text": [
      "最適化されたパラメータ (a, b, c): [0.14285714 2.54285714 1.        ]\n"
     ]
    }
   ],
   "source": [
    "import numpy as np\n",
    "from scipy.optimize import curve_fit\n",
    "import matplotlib.pyplot as plt\n",
    "\n",
    "# カスタムモデル関数を定義\n",
    "def custom_model(x, a, b, c):\n",
    "    return a * x**2 + b * x + c\n",
    "\n",
    "# 生データを用意 (適切なデータに置き換えてください)\n",
    "x_data = np.array([1, 2, 3, 4, 5])\n",
    "y_data = np.array([3, 8, 10, 12, 18])\n",
    "\n",
    "# パラメータの初期値を設定\n",
    "initial_parameters = [1.0, 1.0, 1.0]\n",
    "\n",
    "# カスタムモデルのフィッティング\n",
    "optimized_parameters, _ = curve_fit(custom_model, x_data, y_data, p0=initial_parameters)\n",
    "\n",
    "# フィットしたモデルの可視化\n",
    "x_range = np.linspace(min(x_data), max(x_data), 100)\n",
    "y_fit = custom_model(x_range, *optimized_parameters)\n",
    "\n",
    "plt.scatter(x_data, y_data, label='生データ')\n",
    "plt.plot(x_range, y_fit, color='red', linewidth=2, label='フィットしたモデル')\n",
    "plt.xlabel('X軸')\n",
    "plt.ylabel('Y軸')\n",
    "plt.legend()\n",
    "plt.show()\n",
    "\n",
    "# 最適化されたパラメータを表示\n",
    "print(\"最適化されたパラメータ (a, b, c):\", optimized_parameters)\n"
   ]
  },
  {
   "cell_type": "code",
   "execution_count": 3,
   "metadata": {},
   "outputs": [],
   "source": [
    "x_observed = [9, 28, 38, 58, 88, 98, 108, 118, 128, 138, 148, 158, 168, 178, 188, 198, 208, 218, 228, 238, 278, 288, 298]\n",
    "y_observed = [51, 80, 112, 294, 286, 110, 59, 70, 56, 70, 104, 59, 59, 72, 87, 99, 64, 60, 74, 151, 157, 57, 83]\n",
    "\n",
    "x_observed = np.array(x_observed)\n",
    "y_observed = np.array(y_observed)"
   ]
  },
  {
   "cell_type": "code",
   "execution_count": 4,
   "metadata": {},
   "outputs": [],
   "source": [
    "def func(x, a, b):\n",
    "    Y = a * np.exp(b * x)\n",
    "    return Y"
   ]
  },
  {
   "cell_type": "code",
   "execution_count": 5,
   "metadata": {},
   "outputs": [
    {
     "data": {
      "text/plain": [
       "array([8.10308393e+003, 1.44625706e+012, 3.18559318e+016, 1.54553894e+025,\n",
       "       1.65163625e+038, 3.63797095e+042, 8.01316426e+046, 1.76501689e+051,\n",
       "       3.88770841e+055, 8.56324762e+059, 1.88618081e+064, 4.15458971e+068,\n",
       "       9.15109281e+072, 2.01566233e+077, 4.43979173e+081, 9.77929207e+085,\n",
       "       2.15403242e+090, 4.74457215e+094, 1.04506156e+099, 2.30190127e+103,\n",
       "       5.41833645e+120, 1.19346803e+125, 2.62878826e+129])"
      ]
     },
     "execution_count": 5,
     "metadata": {},
     "output_type": "execute_result"
    }
   ],
   "source": [
    "func(x_observed, 1, 1)"
   ]
  },
  {
   "cell_type": "code",
   "execution_count": 7,
   "metadata": {},
   "outputs": [
    {
     "name": "stdout",
     "output_type": "stream",
     "text": [
      "[-5.40129838e-14  1.00000000e+00]\n"
     ]
    }
   ],
   "source": [
    "popt, pcov = curve_fit(func, x_observed, y_observed)\n",
    "print(popt)"
   ]
  },
  {
   "cell_type": "code",
   "execution_count": null,
   "metadata": {},
   "outputs": [],
   "source": []
  }
 ],
 "metadata": {
  "kernelspec": {
   "display_name": "venv",
   "language": "python",
   "name": "python3"
  },
  "language_info": {
   "codemirror_mode": {
    "name": "ipython",
    "version": 3
   },
   "file_extension": ".py",
   "mimetype": "text/x-python",
   "name": "python",
   "nbconvert_exporter": "python",
   "pygments_lexer": "ipython3",
   "version": "3.9.6"
  }
 },
 "nbformat": 4,
 "nbformat_minor": 2
}
