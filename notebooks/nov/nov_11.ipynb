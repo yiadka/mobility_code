{
 "cells": [
  {
   "cell_type": "code",
   "execution_count": 1,
   "metadata": {},
   "outputs": [],
   "source": [
    "import scipy\n",
    "import numpy as np\n",
    "import matplotlib.pyplot as plt"
   ]
  },
  {
   "cell_type": "code",
   "execution_count": 2,
   "metadata": {},
   "outputs": [],
   "source": [
    "data = np.array([\n",
    "    [6.4,0.6],[6.4,3.0],[11.3,1.2],[11.3,6.7],[12.9,4.9],[14.5,3.0],[16.1,5.5],[16.1,7.9],\n",
    "    [16.1,10.4],[17.7,5.2],[17.7,8.5],[19.3,4.3],[19.3,6.1],[19.3,7.3],[19.3,8.5],\n",
    "    [20.9,7.9],[20.9,10.4],[20.9,10.4],[20.9,14.0],[22.5,7.9],[22.5,11.0],[22.5,18.3],\n",
    "    [22.5,24.4],[24.2,6.1],[24.2,7.9],[24.2,16.5],[25.8,9.8],[25.8,12.2],[27.4,9.8],\n",
    "    [27.4,12.2],[27.4,15.2],[29.0,12.8],[29.0,17.1],[29.0,23.2],[29.0,25.6],[30.6,11.0],\n",
    "    [30.6,14.0],[30.6,20.7],[32.2,9.8],[32.2,14.6],[32.2,15.8],[32.2,17.1],[32.2,19.5],\n",
    "    [35.4,20.1],[37.0,16.5],[38.6,21.3],[38.6,28.0],[38.6,28.3],[38.6,36.6],[40.2,25.9]])"
   ]
  },
  {
   "cell_type": "code",
   "execution_count": 3,
   "metadata": {},
   "outputs": [],
   "source": [
    "n = data.shape[0]"
   ]
  },
  {
   "cell_type": "code",
   "execution_count": 4,
   "metadata": {},
   "outputs": [],
   "source": [
    "veloc = data[:,0]\n",
    "dist = data[:,1]"
   ]
  },
  {
   "cell_type": "code",
   "execution_count": 5,
   "metadata": {},
   "outputs": [],
   "source": [
    "param1 = np.polyfit(veloc,dist,1)\n",
    "param2 = np.polyfit(veloc,dist,2)\n",
    "param3 = np.polyfit(veloc,dist,3)"
   ]
  },
  {
   "cell_type": "code",
   "execution_count": 6,
   "metadata": {},
   "outputs": [],
   "source": [
    "func1 = np.poly1d(param1)\n",
    "func2 = np.poly1d(param2)\n",
    "func3 = np.poly1d(param3)"
   ]
  },
  {
   "cell_type": "code",
   "execution_count": 7,
   "metadata": {},
   "outputs": [],
   "source": [
    "rss_1 = np.sum( np.square(func1(veloc)-dist) )/n\n",
    "rss_2 = np.sum( np.square(func2(veloc)-dist) )/n\n",
    "rss_3 = np.sum( np.square(func3(veloc)-dist) )/n"
   ]
  },
  {
   "cell_type": "code",
   "execution_count": 8,
   "metadata": {},
   "outputs": [],
   "source": [
    "aic_1 = n * (np.log(2*np.pi) + np.log(rss_1) + 1) + 2*(2+1)\n",
    "aic_2 = n * (np.log(2*np.pi) + np.log(rss_2) + 1) + 2*(3+1)\n",
    "aic_3 = n * (np.log(2*np.pi) + np.log(rss_3) + 1) + 2*(4+1)"
   ]
  },
  {
   "cell_type": "code",
   "execution_count": 9,
   "metadata": {},
   "outputs": [
    {
     "name": "stdout",
     "output_type": "stream",
     "text": [
      "AIC(LINEAR FUNCTION): 300.4446626059196\n",
      "AIC(QUADRATIC FUNCTION): 300.0748997518512\n",
      "AIC(CUBIC FUNCTION): 301.1592784630506\n"
     ]
    }
   ],
   "source": [
    "print('AIC(LINEAR FUNCTION):',aic_1)\n",
    "print('AIC(QUADRATIC FUNCTION):',aic_2)\n",
    "print('AIC(CUBIC FUNCTION):',aic_3)"
   ]
  },
  {
   "cell_type": "code",
   "execution_count": 10,
   "metadata": {},
   "outputs": [
    {
     "data": {
      "image/png": "[encoded data removed]",
      "text/plain": [
       "<Figure size 640x480 with 1 Axes>"
      ]
     },
     "metadata": {},
     "output_type": "display_data"
    }
   ],
   "source": [
    "plt.plot(veloc,dist, '.', color=(1.0,0,0.0), linewidth=1.0)\n",
    "plt.xlabel('VELOC[km/h]')\n",
    "plt.xlim(0,50)\n",
    "plt.ylabel('BRAKING DISTANCE[m]')\n",
    "plt.ylim(0,40)\n",
    "plt.grid(True)\n",
    "plt.show()"
   ]
  },
  {
   "cell_type": "code",
   "execution_count": null,
   "metadata": {},
   "outputs": [],
   "source": []
  }
 ],
 "metadata": {
  "kernelspec": {
   "display_name": "venv",
   "language": "python",
   "name": "python3"
  },
  "language_info": {
   "codemirror_mode": {
    "name": "ipython",
    "version": 3
   },
   "file_extension": ".py",
   "mimetype": "text/x-python",
   "name": "python",
   "nbconvert_exporter": "python",
   "pygments_lexer": "ipython3",
   "version": "3.9.6"
  }
 },
 "nbformat": 4,
 "nbformat_minor": 2
}
