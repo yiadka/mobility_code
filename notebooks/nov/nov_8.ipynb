{
 "cells": [
  {
   "cell_type": "code",
   "execution_count": 1,
   "metadata": {},
   "outputs": [],
   "source": [
    "import pandas as pd\n",
    "import numpy as np\n",
    "import matplotlib.pyplot as plt\n",
    "import seaborn as sns\n",
    "from datetime import datetime, timedelta\n",
    "from scipy import stats, optimize\n",
    "from scipy import stats\n",
    "import scipy\n",
    "from sympy import *"
   ]
  },
  {
   "cell_type": "code",
   "execution_count": 3,
   "metadata": {},
   "outputs": [
    {
     "name": "stderr",
     "output_type": "stream",
     "text": [
      "/var/folders/pm/4cgtm7w90fbgczj718s4vvk40000gn/T/ipykernel_3510/2354851726.py:1: DtypeWarning: Columns (2,10) have mixed types. Specify dtype option on import or set low_memory=False.\n",
      "  df = pd.read_csv(\"../data/wholetime.csv\")\n"
     ]
    }
   ],
   "source": [
    "df = pd.read_csv(\"../data/wholetime.csv\")\n",
    "df = df.dropna()"
   ]
  },
  {
   "cell_type": "code",
   "execution_count": 4,
   "metadata": {},
   "outputs": [
    {
     "data": {
      "text/html": [
       "<div>\n",
       "<style scoped>\n",
       "    .dataframe tbody tr th:only-of-type {\n",
       "        vertical-align: middle;\n",
       "    }\n",
       "\n",
       "    .dataframe tbody tr th {\n",
       "        vertical-align: top;\n",
       "    }\n",
       "\n",
       "    .dataframe thead th {\n",
       "        text-align: right;\n",
       "    }\n",
       "</style>\n",
       "<table border=\"1\" class=\"dataframe\">\n",
       "  <thead>\n",
       "    <tr style=\"text-align: right;\">\n",
       "      <th></th>\n",
       "      <th>end_lat</th>\n",
       "      <th>end_lng</th>\n",
       "      <th>end_station_id</th>\n",
       "      <th>end_station_name</th>\n",
       "      <th>ended_at</th>\n",
       "      <th>member_casual</th>\n",
       "      <th>ride_id</th>\n",
       "      <th>rideable_type</th>\n",
       "      <th>start_lat</th>\n",
       "      <th>start_lng</th>\n",
       "      <th>start_station_id</th>\n",
       "      <th>start_station_name</th>\n",
       "      <th>started_at</th>\n",
       "      <th>distance</th>\n",
       "      <th>start_lat_lng</th>\n",
       "      <th>end_lat_lng</th>\n",
       "    </tr>\n",
       "  </thead>\n",
       "  <tbody>\n",
       "    <tr>\n",
       "      <th>0</th>\n",
       "      <td>41.9322</td>\n",
       "      <td>-87.6586</td>\n",
       "      <td>152.0</td>\n",
       "      <td>Lincoln Ave &amp; Diversey Pkwy</td>\n",
       "      <td>2020-04-26 18:12:03</td>\n",
       "      <td>member</td>\n",
       "      <td>A847FADBBC638E45</td>\n",
       "      <td>docked_bike</td>\n",
       "      <td>41.8964</td>\n",
       "      <td>-87.6610</td>\n",
       "      <td>86</td>\n",
       "      <td>Eckhart Park</td>\n",
       "      <td>2020-04-26 17:45:14</td>\n",
       "      <td>3.981346</td>\n",
       "      <td>(41.8964, -87.661)</td>\n",
       "      <td>(41.9322, -87.6586)</td>\n",
       "    </tr>\n",
       "    <tr>\n",
       "      <th>1</th>\n",
       "      <td>41.9306</td>\n",
       "      <td>-87.7238</td>\n",
       "      <td>499.0</td>\n",
       "      <td>Kosciuszko Park</td>\n",
       "      <td>2020-04-17 17:17:03</td>\n",
       "      <td>member</td>\n",
       "      <td>5405B80E996FF60D</td>\n",
       "      <td>docked_bike</td>\n",
       "      <td>41.9244</td>\n",
       "      <td>-87.7154</td>\n",
       "      <td>503</td>\n",
       "      <td>Drake Ave &amp; Fullerton Ave</td>\n",
       "      <td>2020-04-17 17:08:54</td>\n",
       "      <td>0.979629</td>\n",
       "      <td>(41.9244, -87.7154)</td>\n",
       "      <td>(41.9306, -87.7238)</td>\n",
       "    </tr>\n",
       "    <tr>\n",
       "      <th>2</th>\n",
       "      <td>41.8679</td>\n",
       "      <td>-87.6230</td>\n",
       "      <td>255.0</td>\n",
       "      <td>Indiana Ave &amp; Roosevelt Rd</td>\n",
       "      <td>2020-04-01 18:08:36</td>\n",
       "      <td>member</td>\n",
       "      <td>5DD24A79A4E006F4</td>\n",
       "      <td>docked_bike</td>\n",
       "      <td>41.8945</td>\n",
       "      <td>-87.6179</td>\n",
       "      <td>142</td>\n",
       "      <td>McClurg Ct &amp; Erie St</td>\n",
       "      <td>2020-04-01 17:54:13</td>\n",
       "      <td>2.984661</td>\n",
       "      <td>(41.8945, -87.6179)</td>\n",
       "      <td>(41.8679, -87.623)</td>\n",
       "    </tr>\n",
       "    <tr>\n",
       "      <th>3</th>\n",
       "      <td>41.8992</td>\n",
       "      <td>-87.6722</td>\n",
       "      <td>657.0</td>\n",
       "      <td>Wood St &amp; Augusta Blvd</td>\n",
       "      <td>2020-04-07 13:02:31</td>\n",
       "      <td>member</td>\n",
       "      <td>2A59BBDF5CDBA725</td>\n",
       "      <td>docked_bike</td>\n",
       "      <td>41.9030</td>\n",
       "      <td>-87.6975</td>\n",
       "      <td>216</td>\n",
       "      <td>California Ave &amp; Division St</td>\n",
       "      <td>2020-04-07 12:50:19</td>\n",
       "      <td>2.141375</td>\n",
       "      <td>(41.903, -87.6975)</td>\n",
       "      <td>(41.8992, -87.6722)</td>\n",
       "    </tr>\n",
       "    <tr>\n",
       "      <th>4</th>\n",
       "      <td>41.9695</td>\n",
       "      <td>-87.6547</td>\n",
       "      <td>323.0</td>\n",
       "      <td>Sheridan Rd &amp; Lawrence Ave</td>\n",
       "      <td>2020-04-18 11:15:54</td>\n",
       "      <td>casual</td>\n",
       "      <td>27AD306C119C6158</td>\n",
       "      <td>docked_bike</td>\n",
       "      <td>41.8902</td>\n",
       "      <td>-87.6262</td>\n",
       "      <td>125</td>\n",
       "      <td>Rush St &amp; Hubbard St</td>\n",
       "      <td>2020-04-18 10:22:59</td>\n",
       "      <td>9.119685</td>\n",
       "      <td>(41.8902, -87.6262)</td>\n",
       "      <td>(41.9695, -87.6547)</td>\n",
       "    </tr>\n",
       "  </tbody>\n",
       "</table>\n",
       "</div>"
      ],
      "text/plain": [
       "   end_lat  end_lng end_station_id             end_station_name  \\\n",
       "0  41.9322 -87.6586          152.0  Lincoln Ave & Diversey Pkwy   \n",
       "1  41.9306 -87.7238          499.0              Kosciuszko Park   \n",
       "2  41.8679 -87.6230          255.0   Indiana Ave & Roosevelt Rd   \n",
       "3  41.8992 -87.6722          657.0       Wood St & Augusta Blvd   \n",
       "4  41.9695 -87.6547          323.0   Sheridan Rd & Lawrence Ave   \n",
       "\n",
       "              ended_at member_casual           ride_id rideable_type  \\\n",
       "0  2020-04-26 18:12:03        member  A847FADBBC638E45   docked_bike   \n",
       "1  2020-04-17 17:17:03        member  5405B80E996FF60D   docked_bike   \n",
       "2  2020-04-01 18:08:36        member  5DD24A79A4E006F4   docked_bike   \n",
       "3  2020-04-07 13:02:31        member  2A59BBDF5CDBA725   docked_bike   \n",
       "4  2020-04-18 11:15:54        casual  27AD306C119C6158   docked_bike   \n",
       "\n",
       "   start_lat  start_lng start_station_id            start_station_name  \\\n",
       "0    41.8964   -87.6610               86                  Eckhart Park   \n",
       "1    41.9244   -87.7154              503     Drake Ave & Fullerton Ave   \n",
       "2    41.8945   -87.6179              142          McClurg Ct & Erie St   \n",
       "3    41.9030   -87.6975              216  California Ave & Division St   \n",
       "4    41.8902   -87.6262              125          Rush St & Hubbard St   \n",
       "\n",
       "            started_at  distance        start_lat_lng          end_lat_lng  \n",
       "0  2020-04-26 17:45:14  3.981346   (41.8964, -87.661)  (41.9322, -87.6586)  \n",
       "1  2020-04-17 17:08:54  0.979629  (41.9244, -87.7154)  (41.9306, -87.7238)  \n",
       "2  2020-04-01 17:54:13  2.984661  (41.8945, -87.6179)   (41.8679, -87.623)  \n",
       "3  2020-04-07 12:50:19  2.141375   (41.903, -87.6975)  (41.8992, -87.6722)  \n",
       "4  2020-04-18 10:22:59  9.119685  (41.8902, -87.6262)  (41.9695, -87.6547)  "
      ]
     },
     "execution_count": 4,
     "metadata": {},
     "output_type": "execute_result"
    }
   ],
   "source": [
    "df.head()"
   ]
  },
  {
   "cell_type": "code",
   "execution_count": 5,
   "metadata": {},
   "outputs": [],
   "source": [
    "def model_beta(Np, a, alpha, beta, m):\n",
    "    a = symbols('a')\n",
    "    gamma = (np.math.factorial(alpha-1) * np.math.factorial(beta-1)) / np.math.factorial(alpha+beta-1)\n",
    "    func = (a^(alpha-1)*(1-alpha)^(beta-1))/gamma\n",
    "    func_res = Np*(1 - integrate(func, (a, 0, a)) * (1 - ((alpha+beta)/alpha)*(2*m*a)/(Np**(Np-1)))**(Np-1))\n",
    "    return func_res"
   ]
  },
  {
   "cell_type": "code",
   "execution_count": 6,
   "metadata": {},
   "outputs": [
    {
     "name": "stderr",
     "output_type": "stream",
     "text": [
      "/var/folders/pm/4cgtm7w90fbgczj718s4vvk40000gn/T/ipykernel_11855/4147777601.py:3: DeprecationWarning: `np.math` is a deprecated alias for the standard library `math` module (Deprecated Numpy 1.25). Replace usages of `np.math` with `math`\n",
      "  gamma = (np.math.factorial(alpha-1) * np.math.factorial(beta-1)) / np.math.factorial(alpha+beta-1)\n"
     ]
    },
    {
     "ename": "TypeError",
     "evalue": "only integer scalar arrays can be converted to a scalar index",
     "output_type": "error",
     "traceback": [
      "\u001b[0;31m---------------------------------------------------------------------------\u001b[0m",
      "\u001b[0;31mTypeError\u001b[0m                                 Traceback (most recent call last)",
      "\u001b[1;32m/Users/yiadka/dev/mobility_code/nov/nov_8.ipynb Cell 5\u001b[0m line \u001b[0;36m4\n\u001b[1;32m      <a href='vscode-notebook-cell:/Users/yiadka/dev/mobility_code/nov/nov_8.ipynb#W5sZmlsZQ%3D%3D?line=1'>2</a>\u001b[0m alpha \u001b[39m=\u001b[39m stats\u001b[39m.\u001b[39mbeta\u001b[39m.\u001b[39mrvs(\u001b[39m1\u001b[39m, \u001b[39m1\u001b[39m, size\u001b[39m=\u001b[39m\u001b[39m1000\u001b[39m)\n\u001b[1;32m      <a href='vscode-notebook-cell:/Users/yiadka/dev/mobility_code/nov/nov_8.ipynb#W5sZmlsZQ%3D%3D?line=2'>3</a>\u001b[0m beta \u001b[39m=\u001b[39m stats\u001b[39m.\u001b[39mbeta\u001b[39m.\u001b[39mrvs(\u001b[39m1\u001b[39m, \u001b[39m1\u001b[39m, size\u001b[39m=\u001b[39m\u001b[39m1000\u001b[39m)\n\u001b[0;32m----> <a href='vscode-notebook-cell:/Users/yiadka/dev/mobility_code/nov/nov_8.ipynb#W5sZmlsZQ%3D%3D?line=3'>4</a>\u001b[0m res_1 \u001b[39m=\u001b[39m optimize\u001b[39m.\u001b[39;49mleast_squares(model_beta, x0\u001b[39m=\u001b[39;49m[\u001b[39m1\u001b[39;49m, \u001b[39m1\u001b[39;49m, \u001b[39m1\u001b[39;49m, \u001b[39m1\u001b[39;49m], args\u001b[39m=\u001b[39;49m(alpha, beta, \u001b[39m1\u001b[39;49m, \u001b[39m1\u001b[39;49m))\n\u001b[1;32m      <a href='vscode-notebook-cell:/Users/yiadka/dev/mobility_code/nov/nov_8.ipynb#W5sZmlsZQ%3D%3D?line=4'>5</a>\u001b[0m res_1\u001b[39m.\u001b[39mx\n",
      "File \u001b[0;32m~/dev/mobility_code/venv/lib/python3.9/site-packages/scipy/optimize/_lsq/least_squares.py:830\u001b[0m, in \u001b[0;36mleast_squares\u001b[0;34m(fun, x0, jac, bounds, method, ftol, xtol, gtol, x_scale, loss, f_scale, diff_step, tr_solver, tr_options, jac_sparsity, max_nfev, verbose, args, kwargs)\u001b[0m\n\u001b[1;32m    827\u001b[0m \u001b[39mdef\u001b[39;00m \u001b[39mfun_wrapped\u001b[39m(x):\n\u001b[1;32m    828\u001b[0m     \u001b[39mreturn\u001b[39;00m np\u001b[39m.\u001b[39matleast_1d(fun(x, \u001b[39m*\u001b[39margs, \u001b[39m*\u001b[39m\u001b[39m*\u001b[39mkwargs))\n\u001b[0;32m--> 830\u001b[0m f0 \u001b[39m=\u001b[39m fun_wrapped(x0)\n\u001b[1;32m    832\u001b[0m \u001b[39mif\u001b[39;00m f0\u001b[39m.\u001b[39mndim \u001b[39m!=\u001b[39m \u001b[39m1\u001b[39m:\n\u001b[1;32m    833\u001b[0m     \u001b[39mraise\u001b[39;00m \u001b[39mValueError\u001b[39;00m(\u001b[39m\"\u001b[39m\u001b[39m`fun` must return at most 1-d array_like. \u001b[39m\u001b[39m\"\u001b[39m\n\u001b[1;32m    834\u001b[0m                      \u001b[39m\"\u001b[39m\u001b[39mf0.shape: \u001b[39m\u001b[39m{}\u001b[39;00m\u001b[39m\"\u001b[39m\u001b[39m.\u001b[39mformat(f0\u001b[39m.\u001b[39mshape))\n",
      "File \u001b[0;32m~/dev/mobility_code/venv/lib/python3.9/site-packages/scipy/optimize/_lsq/least_squares.py:828\u001b[0m, in \u001b[0;36mleast_squares.<locals>.fun_wrapped\u001b[0;34m(x)\u001b[0m\n\u001b[1;32m    827\u001b[0m \u001b[39mdef\u001b[39;00m \u001b[39mfun_wrapped\u001b[39m(x):\n\u001b[0;32m--> 828\u001b[0m     \u001b[39mreturn\u001b[39;00m np\u001b[39m.\u001b[39matleast_1d(fun(x, \u001b[39m*\u001b[39;49margs, \u001b[39m*\u001b[39;49m\u001b[39m*\u001b[39;49mkwargs))\n",
      "\u001b[1;32m/Users/yiadka/dev/mobility_code/nov/nov_8.ipynb Cell 5\u001b[0m line \u001b[0;36m3\n\u001b[1;32m      <a href='vscode-notebook-cell:/Users/yiadka/dev/mobility_code/nov/nov_8.ipynb#W5sZmlsZQ%3D%3D?line=0'>1</a>\u001b[0m \u001b[39mdef\u001b[39;00m \u001b[39mmodel_beta\u001b[39m(Np, a, alpha, beta, m):\n\u001b[1;32m      <a href='vscode-notebook-cell:/Users/yiadka/dev/mobility_code/nov/nov_8.ipynb#W5sZmlsZQ%3D%3D?line=1'>2</a>\u001b[0m     a \u001b[39m=\u001b[39m symbols(\u001b[39m'\u001b[39m\u001b[39ma\u001b[39m\u001b[39m'\u001b[39m)\n\u001b[0;32m----> <a href='vscode-notebook-cell:/Users/yiadka/dev/mobility_code/nov/nov_8.ipynb#W5sZmlsZQ%3D%3D?line=2'>3</a>\u001b[0m     gamma \u001b[39m=\u001b[39m (np\u001b[39m.\u001b[39;49mmath\u001b[39m.\u001b[39;49mfactorial(alpha\u001b[39m-\u001b[39;49m\u001b[39m1\u001b[39;49m) \u001b[39m*\u001b[39m np\u001b[39m.\u001b[39mmath\u001b[39m.\u001b[39mfactorial(beta\u001b[39m-\u001b[39m\u001b[39m1\u001b[39m)) \u001b[39m/\u001b[39m np\u001b[39m.\u001b[39mmath\u001b[39m.\u001b[39mfactorial(alpha\u001b[39m+\u001b[39mbeta\u001b[39m-\u001b[39m\u001b[39m1\u001b[39m)\n\u001b[1;32m      <a href='vscode-notebook-cell:/Users/yiadka/dev/mobility_code/nov/nov_8.ipynb#W5sZmlsZQ%3D%3D?line=3'>4</a>\u001b[0m     func \u001b[39m=\u001b[39m (a\u001b[39m^\u001b[39m(alpha\u001b[39m-\u001b[39m\u001b[39m1\u001b[39m)\u001b[39m*\u001b[39m(\u001b[39m1\u001b[39m\u001b[39m-\u001b[39malpha)\u001b[39m^\u001b[39m(beta\u001b[39m-\u001b[39m\u001b[39m1\u001b[39m))\u001b[39m/\u001b[39mgamma\n\u001b[1;32m      <a href='vscode-notebook-cell:/Users/yiadka/dev/mobility_code/nov/nov_8.ipynb#W5sZmlsZQ%3D%3D?line=4'>5</a>\u001b[0m     func_res \u001b[39m=\u001b[39m Np\u001b[39m*\u001b[39m(\u001b[39m1\u001b[39m \u001b[39m-\u001b[39m integrate(func, (a, \u001b[39m0\u001b[39m, a)) \u001b[39m*\u001b[39m (\u001b[39m1\u001b[39m \u001b[39m-\u001b[39m ((alpha\u001b[39m+\u001b[39mbeta)\u001b[39m/\u001b[39malpha)\u001b[39m*\u001b[39m(\u001b[39m2\u001b[39m\u001b[39m*\u001b[39mm\u001b[39m*\u001b[39ma)\u001b[39m/\u001b[39m(Np\u001b[39m*\u001b[39m\u001b[39m*\u001b[39m(Np\u001b[39m-\u001b[39m\u001b[39m1\u001b[39m)))\u001b[39m*\u001b[39m\u001b[39m*\u001b[39m(Np\u001b[39m-\u001b[39m\u001b[39m1\u001b[39m))\n",
      "\u001b[0;31mTypeError\u001b[0m: only integer scalar arrays can be converted to a scalar index"
     ]
    }
   ],
   "source": [
    "# alphaとbetaをbeta分布からサンプリング"
   ]
  },
  {
   "cell_type": "code",
   "execution_count": null,
   "metadata": {},
   "outputs": [],
   "source": []
  }
 ],
 "metadata": {
  "kernelspec": {
   "display_name": "venv",
   "language": "python",
   "name": "python3"
  },
  "language_info": {
   "codemirror_mode": {
    "name": "ipython",
    "version": 3
   },
   "file_extension": ".py",
   "mimetype": "text/x-python",
   "name": "python",
   "nbconvert_exporter": "python",
   "pygments_lexer": "ipython3",
   "version": "3.9.6"
  }
 },
 "nbformat": 4,
 "nbformat_minor": 2
}
